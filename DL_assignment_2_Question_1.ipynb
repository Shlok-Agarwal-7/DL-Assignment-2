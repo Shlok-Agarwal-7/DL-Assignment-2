{
  "nbformat": 4,
  "nbformat_minor": 0,
  "metadata": {
    "colab": {
      "provenance": [],
      "gpuType": "T4",
      "collapsed_sections": [
        "FE-1BwCwLgWL",
        "LCkEhhR5Lq23",
        "FBaxLv9bUbnv",
        "Iq-a7suuh4G3"
      ],
      "mount_file_id": "17evqqclptQBdNhCqkOb4naYluB6BM__J",
      "authorship_tag": "ABX9TyNTuqShbfZ24l/DAlfD/m6D",
      "include_colab_link": true
    },
    "kernelspec": {
      "name": "python3",
      "display_name": "Python 3"
    },
    "language_info": {
      "name": "python"
    },
    "accelerator": "GPU"
  },
  "cells": [
    {
      "cell_type": "markdown",
      "metadata": {
        "id": "view-in-github",
        "colab_type": "text"
      },
      "source": [
        "<a href=\"https://colab.research.google.com/github/Shlok-Agarwal-7/DL-Assignment-2/blob/main/DL_assignment_2_Question_1.ipynb\" target=\"_parent\"><img src=\"https://colab.research.google.com/assets/colab-badge.svg\" alt=\"Open In Colab\"/></a>"
      ]
    },
    {
      "cell_type": "markdown",
      "source": [
        "# Extracting Data"
      ],
      "metadata": {
        "id": "FE-1BwCwLgWL"
      }
    },
    {
      "cell_type": "code",
      "execution_count": 1,
      "metadata": {
        "id": "7CWbMar7DWz-"
      },
      "outputs": [],
      "source": [
        "import numpy as np\n",
        "import pandas as pd\n",
        "import tensorflow as tf\n",
        "from tensorflow.keras.layers import Input, Embedding, LSTM, SimpleRNN, Dense\n",
        "from tensorflow.keras.models import Model\n",
        "from tensorflow.keras.preprocessing.sequence import pad_sequences\n",
        "from tensorflow.keras.utils import to_categorical\n",
        "import tarfile"
      ]
    },
    {
      "cell_type": "code",
      "source": [
        "TarFile= tarfile.open(\"/content/drive/MyDrive/dakshina_dataset_v1.0.tar\")"
      ],
      "metadata": {
        "id": "r3I115MVDc4K"
      },
      "execution_count": 2,
      "outputs": []
    },
    {
      "cell_type": "code",
      "source": [
        "TarFile.getnames()"
      ],
      "metadata": {
        "colab": {
          "base_uri": "https://localhost:8080/"
        },
        "id": "f0NzGvLLFHyF",
        "outputId": "3b778e4d-a9b7-47d3-a012-2f17eb15fcdf",
        "collapsed": true
      },
      "execution_count": 3,
      "outputs": [
        {
          "output_type": "execute_result",
          "data": {
            "text/plain": [
              "['dakshina_dataset_v1.0/bn',\n",
              " 'dakshina_dataset_v1.0/bn/lexicons',\n",
              " 'dakshina_dataset_v1.0/bn/lexicons/bn.translit.sampled.test.tsv',\n",
              " 'dakshina_dataset_v1.0/bn/lexicons/bn.translit.sampled.train.tsv',\n",
              " 'dakshina_dataset_v1.0/bn/lexicons/bn.translit.sampled.dev.tsv',\n",
              " 'dakshina_dataset_v1.0/bn/native_script_wikipedia',\n",
              " 'dakshina_dataset_v1.0/bn/native_script_wikipedia/bn.wiki-filt.valid.text.shuf.txt.gz',\n",
              " 'dakshina_dataset_v1.0/bn/native_script_wikipedia/bn.wiki-full.info.sorted.tsv.gz',\n",
              " 'dakshina_dataset_v1.0/bn/native_script_wikipedia/bn.wiki-filt.train.info.sorted.tsv.gz',\n",
              " 'dakshina_dataset_v1.0/bn/native_script_wikipedia/bn.wiki-filt.train.text.sorted.tsv.gz',\n",
              " 'dakshina_dataset_v1.0/bn/native_script_wikipedia/bn.wiki-filt.train.text.shuf.txt.gz',\n",
              " 'dakshina_dataset_v1.0/bn/native_script_wikipedia/bn.wiki-full.nonblock.sections.tsv.gz',\n",
              " 'dakshina_dataset_v1.0/bn/native_script_wikipedia/bn.wiki-full.omit_pages.txt.gz',\n",
              " 'dakshina_dataset_v1.0/bn/native_script_wikipedia/bn.wiki-full.text.sorted.tsv.gz',\n",
              " 'dakshina_dataset_v1.0/bn/native_script_wikipedia/bn.wiki-full.nonblock.sections.list.txt.gz',\n",
              " 'dakshina_dataset_v1.0/bn/native_script_wikipedia/bn.wiki-full.urls.tsv.gz',\n",
              " 'dakshina_dataset_v1.0/bn/native_script_wikipedia/bn.wiki-filt.valid.text.sorted.tsv.gz',\n",
              " 'dakshina_dataset_v1.0/bn/native_script_wikipedia/bn.wiki-filt.valid.info.sorted.tsv.gz',\n",
              " 'dakshina_dataset_v1.0/bn/romanized',\n",
              " 'dakshina_dataset_v1.0/bn/romanized/bn.romanized.rejoined.tsv',\n",
              " 'dakshina_dataset_v1.0/bn/romanized/bn.romanized.rejoined.dev.native.txt',\n",
              " 'dakshina_dataset_v1.0/bn/romanized/bn.romanized.split.tsv',\n",
              " 'dakshina_dataset_v1.0/bn/romanized/bn.romanized.rejoined.dev.roman.txt',\n",
              " 'dakshina_dataset_v1.0/bn/romanized/bn.romanized.rejoined.aligned.tsv',\n",
              " 'dakshina_dataset_v1.0/bn/romanized/bn.romanized.split.validation.native.txt',\n",
              " 'dakshina_dataset_v1.0/bn/romanized/bn.romanized.split.validation.edits.txt',\n",
              " 'dakshina_dataset_v1.0/bn/romanized/bn.romanized.rejoined.aligned.cased_nopunct.tsv',\n",
              " 'dakshina_dataset_v1.0/bn/romanized/bn.romanized.rejoined.test.roman.txt',\n",
              " 'dakshina_dataset_v1.0/bn/romanized/bn.romanized.rejoined.test.native.txt',\n",
              " 'dakshina_dataset_v1.0/gu',\n",
              " 'dakshina_dataset_v1.0/gu/lexicons',\n",
              " 'dakshina_dataset_v1.0/gu/lexicons/gu.translit.sampled.train.tsv',\n",
              " 'dakshina_dataset_v1.0/gu/lexicons/gu.translit.sampled.test.tsv',\n",
              " 'dakshina_dataset_v1.0/gu/lexicons/gu.translit.sampled.dev.tsv',\n",
              " 'dakshina_dataset_v1.0/gu/native_script_wikipedia',\n",
              " 'dakshina_dataset_v1.0/gu/native_script_wikipedia/gu.wiki-filt.train.text.shuf.txt.gz',\n",
              " 'dakshina_dataset_v1.0/gu/native_script_wikipedia/gu.wiki-full.nonblock.sections.list.txt.gz',\n",
              " 'dakshina_dataset_v1.0/gu/native_script_wikipedia/gu.wiki-full.info.sorted.tsv.gz',\n",
              " 'dakshina_dataset_v1.0/gu/native_script_wikipedia/gu.wiki-filt.valid.text.shuf.txt.gz',\n",
              " 'dakshina_dataset_v1.0/gu/native_script_wikipedia/gu.wiki-filt.train.text.sorted.tsv.gz',\n",
              " 'dakshina_dataset_v1.0/gu/native_script_wikipedia/gu.wiki-full.text.sorted.tsv.gz',\n",
              " 'dakshina_dataset_v1.0/gu/native_script_wikipedia/gu.wiki-filt.train.info.sorted.tsv.gz',\n",
              " 'dakshina_dataset_v1.0/gu/native_script_wikipedia/gu.wiki-full.nonblock.sections.tsv.gz',\n",
              " 'dakshina_dataset_v1.0/gu/native_script_wikipedia/gu.wiki-full.omit_pages.txt.gz',\n",
              " 'dakshina_dataset_v1.0/gu/native_script_wikipedia/gu.wiki-full.urls.tsv.gz',\n",
              " 'dakshina_dataset_v1.0/gu/native_script_wikipedia/gu.wiki-filt.valid.text.sorted.tsv.gz',\n",
              " 'dakshina_dataset_v1.0/gu/native_script_wikipedia/gu.wiki-filt.valid.info.sorted.tsv.gz',\n",
              " 'dakshina_dataset_v1.0/gu/romanized',\n",
              " 'dakshina_dataset_v1.0/gu/romanized/gu.romanized.split.validation.edits.txt',\n",
              " 'dakshina_dataset_v1.0/gu/romanized/gu.romanized.split.tsv',\n",
              " 'dakshina_dataset_v1.0/gu/romanized/gu.romanized.rejoined.aligned.cased_nopunct.tsv',\n",
              " 'dakshina_dataset_v1.0/gu/romanized/gu.romanized.rejoined.dev.roman.txt',\n",
              " 'dakshina_dataset_v1.0/gu/romanized/gu.romanized.rejoined.aligned.tsv',\n",
              " 'dakshina_dataset_v1.0/gu/romanized/gu.romanized.rejoined.test.native.txt',\n",
              " 'dakshina_dataset_v1.0/gu/romanized/gu.romanized.rejoined.tsv',\n",
              " 'dakshina_dataset_v1.0/gu/romanized/gu.romanized.rejoined.dev.native.txt',\n",
              " 'dakshina_dataset_v1.0/gu/romanized/gu.romanized.rejoined.test.roman.txt',\n",
              " 'dakshina_dataset_v1.0/gu/romanized/gu.romanized.split.validation.native.txt',\n",
              " 'dakshina_dataset_v1.0/hi',\n",
              " 'dakshina_dataset_v1.0/hi/lexicons',\n",
              " 'dakshina_dataset_v1.0/hi/lexicons/hi.translit.sampled.dev.tsv',\n",
              " 'dakshina_dataset_v1.0/hi/lexicons/hi.translit.sampled.train.tsv',\n",
              " 'dakshina_dataset_v1.0/hi/lexicons/hi.translit.sampled.test.tsv',\n",
              " 'dakshina_dataset_v1.0/hi/native_script_wikipedia',\n",
              " 'dakshina_dataset_v1.0/hi/native_script_wikipedia/hi.wiki-full.info.sorted.tsv.gz',\n",
              " 'dakshina_dataset_v1.0/hi/native_script_wikipedia/hi.wiki-filt.valid.text.sorted.tsv.gz',\n",
              " 'dakshina_dataset_v1.0/hi/native_script_wikipedia/hi.wiki-filt.train.text.sorted.tsv.gz',\n",
              " 'dakshina_dataset_v1.0/hi/native_script_wikipedia/hi.wiki-full.urls.tsv.gz',\n",
              " 'dakshina_dataset_v1.0/hi/native_script_wikipedia/hi.wiki-filt.valid.info.sorted.tsv.gz',\n",
              " 'dakshina_dataset_v1.0/hi/native_script_wikipedia/hi.wiki-full.text.sorted.tsv.gz',\n",
              " 'dakshina_dataset_v1.0/hi/native_script_wikipedia/hi.wiki-full.omit_pages.txt.gz',\n",
              " 'dakshina_dataset_v1.0/hi/native_script_wikipedia/hi.wiki-filt.valid.text.shuf.txt.gz',\n",
              " 'dakshina_dataset_v1.0/hi/native_script_wikipedia/hi.wiki-full.nonblock.sections.list.txt.gz',\n",
              " 'dakshina_dataset_v1.0/hi/native_script_wikipedia/hi.wiki-filt.train.info.sorted.tsv.gz',\n",
              " 'dakshina_dataset_v1.0/hi/native_script_wikipedia/hi.wiki-full.nonblock.sections.tsv.gz',\n",
              " 'dakshina_dataset_v1.0/hi/native_script_wikipedia/hi.wiki-filt.train.text.shuf.txt.gz',\n",
              " 'dakshina_dataset_v1.0/hi/romanized',\n",
              " 'dakshina_dataset_v1.0/hi/romanized/hi.romanized.rejoined.aligned.tsv',\n",
              " 'dakshina_dataset_v1.0/hi/romanized/hi.romanized.split.validation.native.txt',\n",
              " 'dakshina_dataset_v1.0/hi/romanized/hi.romanized.rejoined.tsv',\n",
              " 'dakshina_dataset_v1.0/hi/romanized/hi.romanized.rejoined.dev.roman.txt',\n",
              " 'dakshina_dataset_v1.0/hi/romanized/hi.romanized.rejoined.dev.native.txt',\n",
              " 'dakshina_dataset_v1.0/hi/romanized/hi.romanized.rejoined.test.native.txt',\n",
              " 'dakshina_dataset_v1.0/hi/romanized/hi.romanized.split.validation.edits.txt',\n",
              " 'dakshina_dataset_v1.0/hi/romanized/hi.romanized.rejoined.test.roman.txt',\n",
              " 'dakshina_dataset_v1.0/hi/romanized/hi.romanized.split.tsv',\n",
              " 'dakshina_dataset_v1.0/hi/romanized/hi.romanized.rejoined.aligned.cased_nopunct.tsv',\n",
              " 'dakshina_dataset_v1.0/kn',\n",
              " 'dakshina_dataset_v1.0/kn/lexicons',\n",
              " 'dakshina_dataset_v1.0/kn/lexicons/kn.translit.sampled.train.tsv',\n",
              " 'dakshina_dataset_v1.0/kn/lexicons/kn.translit.sampled.dev.tsv',\n",
              " 'dakshina_dataset_v1.0/kn/lexicons/kn.translit.sampled.test.tsv',\n",
              " 'dakshina_dataset_v1.0/kn/native_script_wikipedia',\n",
              " 'dakshina_dataset_v1.0/kn/native_script_wikipedia/kn.wiki-full.text.sorted.tsv.gz',\n",
              " 'dakshina_dataset_v1.0/kn/native_script_wikipedia/kn.wiki-filt.valid.text.shuf.txt.gz',\n",
              " 'dakshina_dataset_v1.0/kn/native_script_wikipedia/kn.wiki-filt.valid.info.sorted.tsv.gz',\n",
              " 'dakshina_dataset_v1.0/kn/native_script_wikipedia/kn.wiki-filt.train.text.shuf.txt.gz',\n",
              " 'dakshina_dataset_v1.0/kn/native_script_wikipedia/kn.wiki-full.info.sorted.tsv.gz',\n",
              " 'dakshina_dataset_v1.0/kn/native_script_wikipedia/kn.wiki-full.nonblock.sections.list.txt.gz',\n",
              " 'dakshina_dataset_v1.0/kn/native_script_wikipedia/kn.wiki-full.urls.tsv.gz',\n",
              " 'dakshina_dataset_v1.0/kn/native_script_wikipedia/kn.wiki-full.nonblock.sections.tsv.gz',\n",
              " 'dakshina_dataset_v1.0/kn/native_script_wikipedia/kn.wiki-filt.valid.text.sorted.tsv.gz',\n",
              " 'dakshina_dataset_v1.0/kn/native_script_wikipedia/kn.wiki-filt.train.text.sorted.tsv.gz',\n",
              " 'dakshina_dataset_v1.0/kn/native_script_wikipedia/kn.wiki-filt.train.info.sorted.tsv.gz',\n",
              " 'dakshina_dataset_v1.0/kn/native_script_wikipedia/kn.wiki-full.omit_pages.txt.gz',\n",
              " 'dakshina_dataset_v1.0/kn/romanized',\n",
              " 'dakshina_dataset_v1.0/kn/romanized/kn.romanized.split.validation.edits.txt',\n",
              " 'dakshina_dataset_v1.0/kn/romanized/kn.romanized.rejoined.dev.native.txt',\n",
              " 'dakshina_dataset_v1.0/kn/romanized/kn.romanized.rejoined.test.roman.txt',\n",
              " 'dakshina_dataset_v1.0/kn/romanized/kn.romanized.split.validation.native.txt',\n",
              " 'dakshina_dataset_v1.0/kn/romanized/kn.romanized.rejoined.tsv',\n",
              " 'dakshina_dataset_v1.0/kn/romanized/kn.romanized.rejoined.test.native.txt',\n",
              " 'dakshina_dataset_v1.0/kn/romanized/kn.romanized.rejoined.dev.roman.txt',\n",
              " 'dakshina_dataset_v1.0/kn/romanized/kn.romanized.rejoined.aligned.cased_nopunct.tsv',\n",
              " 'dakshina_dataset_v1.0/kn/romanized/kn.romanized.split.tsv',\n",
              " 'dakshina_dataset_v1.0/kn/romanized/kn.romanized.rejoined.aligned.tsv',\n",
              " 'dakshina_dataset_v1.0/ml',\n",
              " 'dakshina_dataset_v1.0/ml/lexicons',\n",
              " 'dakshina_dataset_v1.0/ml/lexicons/ml.translit.sampled.train.tsv',\n",
              " 'dakshina_dataset_v1.0/ml/lexicons/tmp.rom.txt',\n",
              " 'dakshina_dataset_v1.0/ml/lexicons/tmp.tsv',\n",
              " 'dakshina_dataset_v1.0/ml/lexicons/ml.translit.sampled.dev.tsv',\n",
              " 'dakshina_dataset_v1.0/ml/lexicons/ml.translit.sampled.test.tsv',\n",
              " 'dakshina_dataset_v1.0/ml/native_script_wikipedia',\n",
              " 'dakshina_dataset_v1.0/ml/native_script_wikipedia/ml.wiki-full.omit_pages.txt.gz',\n",
              " 'dakshina_dataset_v1.0/ml/native_script_wikipedia/ml.wiki-filt.valid.info.sorted.tsv.gz',\n",
              " 'dakshina_dataset_v1.0/ml/native_script_wikipedia/ml.wiki-full.info.sorted.tsv.gz',\n",
              " 'dakshina_dataset_v1.0/ml/native_script_wikipedia/ml.wiki-filt.train.text.shuf.txt.gz',\n",
              " 'dakshina_dataset_v1.0/ml/native_script_wikipedia/ml.wiki-full.text.sorted.tsv.gz',\n",
              " 'dakshina_dataset_v1.0/ml/native_script_wikipedia/ml.wiki-filt.valid.text.sorted.tsv.gz',\n",
              " 'dakshina_dataset_v1.0/ml/native_script_wikipedia/ml.wiki-full.nonblock.sections.list.txt.gz',\n",
              " 'dakshina_dataset_v1.0/ml/native_script_wikipedia/ml.wiki-full.nonblock.sections.tsv.gz',\n",
              " 'dakshina_dataset_v1.0/ml/native_script_wikipedia/ml.wiki-filt.train.text.sorted.tsv.gz',\n",
              " 'dakshina_dataset_v1.0/ml/native_script_wikipedia/ml.wiki-full.urls.tsv.gz',\n",
              " 'dakshina_dataset_v1.0/ml/native_script_wikipedia/ml.wiki-filt.valid.text.shuf.txt.gz',\n",
              " 'dakshina_dataset_v1.0/ml/native_script_wikipedia/ml.wiki-filt.train.info.sorted.tsv.gz',\n",
              " 'dakshina_dataset_v1.0/ml/romanized',\n",
              " 'dakshina_dataset_v1.0/ml/romanized/ml.romanized.rejoined.tsv',\n",
              " 'dakshina_dataset_v1.0/ml/romanized/ml.romanized.rejoined.test.roman.txt',\n",
              " 'dakshina_dataset_v1.0/ml/romanized/ml.romanized.split.validation.edits.txt',\n",
              " 'dakshina_dataset_v1.0/ml/romanized/ml.romanized.rejoined.dev.roman.txt',\n",
              " 'dakshina_dataset_v1.0/ml/romanized/ml.romanized.rejoined.test.native.txt',\n",
              " 'dakshina_dataset_v1.0/ml/romanized/ml.romanized.rejoined.dev.native.txt',\n",
              " 'dakshina_dataset_v1.0/ml/romanized/ml.romanized.rejoined.aligned.cased_nopunct.tsv',\n",
              " 'dakshina_dataset_v1.0/ml/romanized/ml.romanized.split.tsv',\n",
              " 'dakshina_dataset_v1.0/ml/romanized/ml.romanized.rejoined.aligned.tsv',\n",
              " 'dakshina_dataset_v1.0/ml/romanized/ml.romanized.split.validation.native.txt',\n",
              " 'dakshina_dataset_v1.0/mr',\n",
              " 'dakshina_dataset_v1.0/mr/lexicons',\n",
              " 'dakshina_dataset_v1.0/mr/lexicons/mr.translit.sampled.test.tsv',\n",
              " 'dakshina_dataset_v1.0/mr/lexicons/mr.translit.sampled.train.tsv',\n",
              " 'dakshina_dataset_v1.0/mr/lexicons/mr.translit.sampled.dev.tsv',\n",
              " 'dakshina_dataset_v1.0/mr/native_script_wikipedia',\n",
              " 'dakshina_dataset_v1.0/mr/native_script_wikipedia/mr.wiki-full.omit_pages.txt.gz',\n",
              " 'dakshina_dataset_v1.0/mr/native_script_wikipedia/mr.wiki-filt.train.text.sorted.tsv.gz',\n",
              " 'dakshina_dataset_v1.0/mr/native_script_wikipedia/mr.wiki-full.nonblock.sections.list.txt.gz',\n",
              " 'dakshina_dataset_v1.0/mr/native_script_wikipedia/mr.wiki-full.text.sorted.tsv.gz',\n",
              " 'dakshina_dataset_v1.0/mr/native_script_wikipedia/mr.wiki-filt.valid.info.sorted.tsv.gz',\n",
              " 'dakshina_dataset_v1.0/mr/native_script_wikipedia/mr.wiki-filt.train.text.shuf.txt.gz',\n",
              " 'dakshina_dataset_v1.0/mr/native_script_wikipedia/mr.wiki-full.info.sorted.tsv.gz',\n",
              " 'dakshina_dataset_v1.0/mr/native_script_wikipedia/mr.wiki-filt.valid.text.shuf.txt.gz',\n",
              " 'dakshina_dataset_v1.0/mr/native_script_wikipedia/mr.wiki-full.urls.tsv.gz',\n",
              " 'dakshina_dataset_v1.0/mr/native_script_wikipedia/mr.wiki-filt.valid.text.sorted.tsv.gz',\n",
              " 'dakshina_dataset_v1.0/mr/native_script_wikipedia/mr.wiki-filt.train.info.sorted.tsv.gz',\n",
              " 'dakshina_dataset_v1.0/mr/native_script_wikipedia/mr.wiki-full.nonblock.sections.tsv.gz',\n",
              " 'dakshina_dataset_v1.0/mr/romanized',\n",
              " 'dakshina_dataset_v1.0/mr/romanized/mr.romanized.split.tsv',\n",
              " 'dakshina_dataset_v1.0/mr/romanized/mr.romanized.rejoined.dev.roman.txt',\n",
              " 'dakshina_dataset_v1.0/mr/romanized/mr.romanized.split.validation.native.txt',\n",
              " 'dakshina_dataset_v1.0/mr/romanized/mr.romanized.rejoined.test.roman.txt',\n",
              " 'dakshina_dataset_v1.0/mr/romanized/mr.romanized.rejoined.test.native.txt',\n",
              " 'dakshina_dataset_v1.0/mr/romanized/mr.romanized.rejoined.dev.native.txt',\n",
              " 'dakshina_dataset_v1.0/mr/romanized/mr.romanized.rejoined.tsv',\n",
              " 'dakshina_dataset_v1.0/mr/romanized/mr.romanized.rejoined.aligned.tsv',\n",
              " 'dakshina_dataset_v1.0/mr/romanized/mr.romanized.split.validation.edits.txt',\n",
              " 'dakshina_dataset_v1.0/mr/romanized/mr.romanized.rejoined.aligned.cased_nopunct.tsv',\n",
              " 'dakshina_dataset_v1.0/pa',\n",
              " 'dakshina_dataset_v1.0/pa/lexicons',\n",
              " 'dakshina_dataset_v1.0/pa/lexicons/pa.translit.sampled.dev.tsv',\n",
              " 'dakshina_dataset_v1.0/pa/lexicons/pa.translit.sampled.test.tsv',\n",
              " 'dakshina_dataset_v1.0/pa/lexicons/pa.translit.sampled.train.tsv',\n",
              " 'dakshina_dataset_v1.0/pa/native_script_wikipedia',\n",
              " 'dakshina_dataset_v1.0/pa/native_script_wikipedia/pa.wiki-full.omit_pages.txt.gz',\n",
              " 'dakshina_dataset_v1.0/pa/native_script_wikipedia/pa.wiki-full.text.sorted.tsv.gz',\n",
              " 'dakshina_dataset_v1.0/pa/native_script_wikipedia/pa.wiki-filt.train.text.shuf.txt.gz',\n",
              " 'dakshina_dataset_v1.0/pa/native_script_wikipedia/pa.wiki-filt.train.text.sorted.tsv.gz',\n",
              " 'dakshina_dataset_v1.0/pa/native_script_wikipedia/pa.wiki-full.urls.tsv.gz',\n",
              " 'dakshina_dataset_v1.0/pa/native_script_wikipedia/pa.wiki-full.info.sorted.tsv.gz',\n",
              " 'dakshina_dataset_v1.0/pa/native_script_wikipedia/pa.wiki-filt.valid.info.sorted.tsv.gz',\n",
              " 'dakshina_dataset_v1.0/pa/native_script_wikipedia/pa.wiki-filt.train.info.sorted.tsv.gz',\n",
              " 'dakshina_dataset_v1.0/pa/native_script_wikipedia/pa.wiki-full.nonblock.sections.tsv.gz',\n",
              " 'dakshina_dataset_v1.0/pa/native_script_wikipedia/pa.wiki-filt.valid.text.sorted.tsv.gz',\n",
              " 'dakshina_dataset_v1.0/pa/native_script_wikipedia/pa.wiki-filt.valid.text.shuf.txt.gz',\n",
              " 'dakshina_dataset_v1.0/pa/native_script_wikipedia/pa.wiki-full.nonblock.sections.list.txt.gz',\n",
              " 'dakshina_dataset_v1.0/pa/romanized',\n",
              " 'dakshina_dataset_v1.0/pa/romanized/pa.romanized.rejoined.aligned.tsv',\n",
              " 'dakshina_dataset_v1.0/pa/romanized/pa.romanized.rejoined.dev.roman.txt',\n",
              " 'dakshina_dataset_v1.0/pa/romanized/pa.romanized.rejoined.test.roman.txt',\n",
              " 'dakshina_dataset_v1.0/pa/romanized/pa.romanized.split.tsv',\n",
              " 'dakshina_dataset_v1.0/pa/romanized/pa.romanized.rejoined.dev.native.txt',\n",
              " 'dakshina_dataset_v1.0/pa/romanized/pa.romanized.split.validation.native.txt',\n",
              " 'dakshina_dataset_v1.0/pa/romanized/pa.romanized.rejoined.aligned.cased_nopunct.tsv',\n",
              " 'dakshina_dataset_v1.0/pa/romanized/pa.romanized.rejoined.tsv',\n",
              " 'dakshina_dataset_v1.0/pa/romanized/pa.romanized.split.validation.edits.txt',\n",
              " 'dakshina_dataset_v1.0/pa/romanized/pa.romanized.rejoined.test.native.txt',\n",
              " 'dakshina_dataset_v1.0/sd',\n",
              " 'dakshina_dataset_v1.0/sd/lexicons',\n",
              " 'dakshina_dataset_v1.0/sd/lexicons/sd.translit.sampled.train.tsv',\n",
              " 'dakshina_dataset_v1.0/sd/lexicons/sd.translit.sampled.test.tsv',\n",
              " 'dakshina_dataset_v1.0/sd/lexicons/sd.translit.sampled.dev.tsv',\n",
              " 'dakshina_dataset_v1.0/sd/native_script_wikipedia',\n",
              " 'dakshina_dataset_v1.0/sd/native_script_wikipedia/sd.wiki-full.nonblock.sections.tsv.gz',\n",
              " 'dakshina_dataset_v1.0/sd/native_script_wikipedia/sd.wiki-filt.valid.text.shuf.txt.gz',\n",
              " 'dakshina_dataset_v1.0/sd/native_script_wikipedia/sd.wiki-full.omit_pages.txt.gz',\n",
              " 'dakshina_dataset_v1.0/sd/native_script_wikipedia/sd.wiki-filt.train.info.sorted.tsv.gz',\n",
              " 'dakshina_dataset_v1.0/sd/native_script_wikipedia/sd.wiki-full.urls.tsv.gz',\n",
              " 'dakshina_dataset_v1.0/sd/native_script_wikipedia/sd.wiki-filt.valid.info.sorted.tsv.gz',\n",
              " 'dakshina_dataset_v1.0/sd/native_script_wikipedia/sd.wiki-filt.train.text.sorted.tsv.gz',\n",
              " 'dakshina_dataset_v1.0/sd/native_script_wikipedia/sd.wiki-full.text.sorted.tsv.gz',\n",
              " 'dakshina_dataset_v1.0/sd/native_script_wikipedia/sd.wiki-filt.train.text.shuf.txt.gz',\n",
              " 'dakshina_dataset_v1.0/sd/native_script_wikipedia/sd.wiki-filt.valid.text.sorted.tsv.gz',\n",
              " 'dakshina_dataset_v1.0/sd/native_script_wikipedia/sd.wiki-full.info.sorted.tsv.gz',\n",
              " 'dakshina_dataset_v1.0/sd/native_script_wikipedia/sd.wiki-full.nonblock.sections.list.txt.gz',\n",
              " 'dakshina_dataset_v1.0/sd/romanized',\n",
              " 'dakshina_dataset_v1.0/sd/romanized/sd.romanized.rejoined.dev.roman.txt',\n",
              " 'dakshina_dataset_v1.0/sd/romanized/sd.romanized.split.tsv',\n",
              " 'dakshina_dataset_v1.0/sd/romanized/sd.romanized.split.validation.native.txt',\n",
              " 'dakshina_dataset_v1.0/sd/romanized/sd.romanized.rejoined.dev.native.txt',\n",
              " 'dakshina_dataset_v1.0/sd/romanized/sd.romanized.rejoined.aligned.cased_nopunct.tsv',\n",
              " 'dakshina_dataset_v1.0/sd/romanized/sd.romanized.rejoined.test.native.txt',\n",
              " 'dakshina_dataset_v1.0/sd/romanized/sd.romanized.split.validation.edits.txt',\n",
              " 'dakshina_dataset_v1.0/sd/romanized/sd.romanized.rejoined.aligned.tsv',\n",
              " 'dakshina_dataset_v1.0/sd/romanized/sd.romanized.rejoined.test.roman.txt',\n",
              " 'dakshina_dataset_v1.0/sd/romanized/sd.romanized.rejoined.tsv',\n",
              " 'dakshina_dataset_v1.0/si',\n",
              " 'dakshina_dataset_v1.0/si/lexicons',\n",
              " 'dakshina_dataset_v1.0/si/lexicons/si.translit.sampled.test.tsv',\n",
              " 'dakshina_dataset_v1.0/si/lexicons/si.translit.sampled.train.tsv',\n",
              " 'dakshina_dataset_v1.0/si/lexicons/si.translit.sampled.dev.tsv',\n",
              " 'dakshina_dataset_v1.0/si/native_script_wikipedia',\n",
              " 'dakshina_dataset_v1.0/si/native_script_wikipedia/si.wiki-full.urls.tsv.gz',\n",
              " 'dakshina_dataset_v1.0/si/native_script_wikipedia/si.wiki-full.text.sorted.tsv.gz',\n",
              " 'dakshina_dataset_v1.0/si/native_script_wikipedia/si.wiki-filt.train.info.sorted.tsv.gz',\n",
              " 'dakshina_dataset_v1.0/si/native_script_wikipedia/si.wiki-full.omit_pages.txt.gz',\n",
              " 'dakshina_dataset_v1.0/si/native_script_wikipedia/si.wiki-filt.train.text.shuf.txt.gz',\n",
              " 'dakshina_dataset_v1.0/si/native_script_wikipedia/si.wiki-full.nonblock.sections.list.txt.gz',\n",
              " 'dakshina_dataset_v1.0/si/native_script_wikipedia/si.wiki-filt.valid.info.sorted.tsv.gz',\n",
              " 'dakshina_dataset_v1.0/si/native_script_wikipedia/si.wiki-full.nonblock.sections.tsv.gz',\n",
              " 'dakshina_dataset_v1.0/si/native_script_wikipedia/si.wiki-filt.valid.text.shuf.txt.gz',\n",
              " 'dakshina_dataset_v1.0/si/native_script_wikipedia/si.wiki-full.info.sorted.tsv.gz',\n",
              " 'dakshina_dataset_v1.0/si/native_script_wikipedia/si.wiki-filt.train.text.sorted.tsv.gz',\n",
              " 'dakshina_dataset_v1.0/si/native_script_wikipedia/si.wiki-filt.valid.text.sorted.tsv.gz',\n",
              " 'dakshina_dataset_v1.0/si/romanized',\n",
              " 'dakshina_dataset_v1.0/si/romanized/si.romanized.split.tsv',\n",
              " 'dakshina_dataset_v1.0/si/romanized/si.romanized.rejoined.test.native.txt',\n",
              " 'dakshina_dataset_v1.0/si/romanized/si.romanized.rejoined.aligned.tsv',\n",
              " 'dakshina_dataset_v1.0/si/romanized/si.romanized.rejoined.dev.native.txt',\n",
              " 'dakshina_dataset_v1.0/si/romanized/si.romanized.rejoined.dev.roman.txt',\n",
              " 'dakshina_dataset_v1.0/si/romanized/si.romanized.rejoined.test.roman.txt',\n",
              " 'dakshina_dataset_v1.0/si/romanized/si.romanized.rejoined.aligned.cased_nopunct.tsv',\n",
              " 'dakshina_dataset_v1.0/si/romanized/si.romanized.split.validation.edits.txt',\n",
              " 'dakshina_dataset_v1.0/si/romanized/si.romanized.rejoined.tsv',\n",
              " 'dakshina_dataset_v1.0/si/romanized/si.romanized.split.validation.native.txt',\n",
              " 'dakshina_dataset_v1.0/ta',\n",
              " 'dakshina_dataset_v1.0/ta/lexicons',\n",
              " 'dakshina_dataset_v1.0/ta/lexicons/ta.translit.sampled.train.tsv',\n",
              " 'dakshina_dataset_v1.0/ta/lexicons/ta.translit.sampled.dev.tsv',\n",
              " 'dakshina_dataset_v1.0/ta/lexicons/ta.translit.sampled.test.tsv',\n",
              " 'dakshina_dataset_v1.0/ta/native_script_wikipedia',\n",
              " 'dakshina_dataset_v1.0/ta/native_script_wikipedia/ta.wiki-filt.valid.text.shuf.txt.gz',\n",
              " 'dakshina_dataset_v1.0/ta/native_script_wikipedia/ta.wiki-full.nonblock.sections.list.txt.gz',\n",
              " 'dakshina_dataset_v1.0/ta/native_script_wikipedia/ta.wiki-filt.train.text.sorted.tsv.gz',\n",
              " 'dakshina_dataset_v1.0/ta/native_script_wikipedia/ta.wiki-full.nonblock.sections.tsv.gz',\n",
              " 'dakshina_dataset_v1.0/ta/native_script_wikipedia/ta.wiki-filt.valid.info.sorted.tsv.gz',\n",
              " 'dakshina_dataset_v1.0/ta/native_script_wikipedia/ta.wiki-full.text.sorted.tsv.gz',\n",
              " 'dakshina_dataset_v1.0/ta/native_script_wikipedia/ta.wiki-full.urls.tsv.gz',\n",
              " 'dakshina_dataset_v1.0/ta/native_script_wikipedia/ta.wiki-filt.train.text.shuf.txt.gz',\n",
              " 'dakshina_dataset_v1.0/ta/native_script_wikipedia/ta.wiki-filt.valid.text.sorted.tsv.gz',\n",
              " 'dakshina_dataset_v1.0/ta/native_script_wikipedia/ta.wiki-full.info.sorted.tsv.gz',\n",
              " 'dakshina_dataset_v1.0/ta/native_script_wikipedia/ta.wiki-full.omit_pages.txt.gz',\n",
              " 'dakshina_dataset_v1.0/ta/native_script_wikipedia/ta.wiki-filt.train.info.sorted.tsv.gz',\n",
              " 'dakshina_dataset_v1.0/ta/romanized',\n",
              " 'dakshina_dataset_v1.0/ta/romanized/ta.romanized.rejoined.aligned.tsv',\n",
              " 'dakshina_dataset_v1.0/ta/romanized/ta.romanized.rejoined.dev.roman.txt',\n",
              " 'dakshina_dataset_v1.0/ta/romanized/ta.romanized.rejoined.aligned.cased_nopunct.tsv',\n",
              " 'dakshina_dataset_v1.0/ta/romanized/ta.romanized.rejoined.tsv',\n",
              " 'dakshina_dataset_v1.0/ta/romanized/ta.romanized.split.validation.native.txt',\n",
              " 'dakshina_dataset_v1.0/ta/romanized/ta.romanized.rejoined.test.roman.txt',\n",
              " 'dakshina_dataset_v1.0/ta/romanized/ta.romanized.split.tsv',\n",
              " 'dakshina_dataset_v1.0/ta/romanized/ta.romanized.rejoined.dev.native.txt',\n",
              " 'dakshina_dataset_v1.0/ta/romanized/ta.romanized.split.validation.edits.txt',\n",
              " 'dakshina_dataset_v1.0/ta/romanized/ta.romanized.rejoined.test.native.txt',\n",
              " 'dakshina_dataset_v1.0/te',\n",
              " 'dakshina_dataset_v1.0/te/lexicons',\n",
              " 'dakshina_dataset_v1.0/te/lexicons/te.translit.sampled.dev.tsv',\n",
              " 'dakshina_dataset_v1.0/te/lexicons/te.translit.sampled.test.tsv',\n",
              " 'dakshina_dataset_v1.0/te/lexicons/te.translit.sampled.train.tsv',\n",
              " 'dakshina_dataset_v1.0/te/native_script_wikipedia',\n",
              " 'dakshina_dataset_v1.0/te/native_script_wikipedia/te.wiki-full.info.sorted.tsv.gz',\n",
              " 'dakshina_dataset_v1.0/te/native_script_wikipedia/te.wiki-filt.valid.info.sorted.tsv.gz',\n",
              " 'dakshina_dataset_v1.0/te/native_script_wikipedia/te.wiki-full.text.sorted.tsv.gz',\n",
              " 'dakshina_dataset_v1.0/te/native_script_wikipedia/te.wiki-filt.train.text.shuf.txt.gz',\n",
              " 'dakshina_dataset_v1.0/te/native_script_wikipedia/te.wiki-filt.valid.text.shuf.txt.gz',\n",
              " 'dakshina_dataset_v1.0/te/native_script_wikipedia/te.wiki-filt.train.text.sorted.tsv.gz',\n",
              " 'dakshina_dataset_v1.0/te/native_script_wikipedia/te.wiki-full.omit_pages.txt.gz',\n",
              " 'dakshina_dataset_v1.0/te/native_script_wikipedia/te.wiki-full.urls.tsv.gz',\n",
              " 'dakshina_dataset_v1.0/te/native_script_wikipedia/te.wiki-full.nonblock.sections.tsv.gz',\n",
              " 'dakshina_dataset_v1.0/te/native_script_wikipedia/te.wiki-full.nonblock.sections.list.txt.gz',\n",
              " 'dakshina_dataset_v1.0/te/native_script_wikipedia/te.wiki-filt.train.info.sorted.tsv.gz',\n",
              " 'dakshina_dataset_v1.0/te/native_script_wikipedia/te.wiki-filt.valid.text.sorted.tsv.gz',\n",
              " 'dakshina_dataset_v1.0/te/romanized',\n",
              " 'dakshina_dataset_v1.0/te/romanized/te.romanized.rejoined.tsv',\n",
              " 'dakshina_dataset_v1.0/te/romanized/te.romanized.rejoined.aligned.cased_nopunct.tsv',\n",
              " 'dakshina_dataset_v1.0/te/romanized/te.romanized.rejoined.dev.roman.txt',\n",
              " 'dakshina_dataset_v1.0/te/romanized/te.romanized.rejoined.dev.native.txt',\n",
              " 'dakshina_dataset_v1.0/te/romanized/te.romanized.split.validation.native.txt',\n",
              " 'dakshina_dataset_v1.0/te/romanized/te.romanized.rejoined.test.native.txt',\n",
              " 'dakshina_dataset_v1.0/te/romanized/te.romanized.split.validation.edits.txt',\n",
              " 'dakshina_dataset_v1.0/te/romanized/te.romanized.rejoined.aligned.tsv',\n",
              " 'dakshina_dataset_v1.0/te/romanized/te.romanized.split.tsv',\n",
              " 'dakshina_dataset_v1.0/te/romanized/te.romanized.rejoined.test.roman.txt',\n",
              " 'dakshina_dataset_v1.0/ur',\n",
              " 'dakshina_dataset_v1.0/ur/lexicons',\n",
              " 'dakshina_dataset_v1.0/ur/lexicons/ur.translit.sampled.train.tsv',\n",
              " 'dakshina_dataset_v1.0/ur/lexicons/ur.translit.sampled.test.tsv',\n",
              " 'dakshina_dataset_v1.0/ur/lexicons/ur.translit.sampled.dev.tsv',\n",
              " 'dakshina_dataset_v1.0/ur/native_script_wikipedia',\n",
              " 'dakshina_dataset_v1.0/ur/native_script_wikipedia/ur.wiki-filt.valid.text.sorted.tsv.gz',\n",
              " 'dakshina_dataset_v1.0/ur/native_script_wikipedia/ur.wiki-full.nonblock.sections.tsv.gz',\n",
              " 'dakshina_dataset_v1.0/ur/native_script_wikipedia/ur.wiki-full.info.sorted.tsv.gz',\n",
              " 'dakshina_dataset_v1.0/ur/native_script_wikipedia/ur.wiki-full.text.sorted.tsv.gz',\n",
              " 'dakshina_dataset_v1.0/ur/native_script_wikipedia/ur.wiki-full.omit_pages.txt.gz',\n",
              " 'dakshina_dataset_v1.0/ur/native_script_wikipedia/ur.wiki-filt.train.text.sorted.tsv.gz',\n",
              " 'dakshina_dataset_v1.0/ur/native_script_wikipedia/ur.wiki-full.urls.tsv.gz',\n",
              " 'dakshina_dataset_v1.0/ur/native_script_wikipedia/ur.wiki-filt.train.text.shuf.txt.gz',\n",
              " 'dakshina_dataset_v1.0/ur/native_script_wikipedia/ur.wiki-full.nonblock.sections.list.txt.gz',\n",
              " 'dakshina_dataset_v1.0/ur/native_script_wikipedia/ur.wiki-filt.valid.info.sorted.tsv.gz',\n",
              " 'dakshina_dataset_v1.0/ur/native_script_wikipedia/ur.wiki-filt.valid.text.shuf.txt.gz',\n",
              " 'dakshina_dataset_v1.0/ur/native_script_wikipedia/ur.wiki-filt.train.info.sorted.tsv.gz',\n",
              " 'dakshina_dataset_v1.0/ur/romanized',\n",
              " 'dakshina_dataset_v1.0/ur/romanized/ur.romanized.rejoined.tsv',\n",
              " 'dakshina_dataset_v1.0/ur/romanized/ur.romanized.rejoined.dev.roman.txt',\n",
              " 'dakshina_dataset_v1.0/ur/romanized/ur.romanized.split.validation.native.txt',\n",
              " 'dakshina_dataset_v1.0/ur/romanized/ur.romanized.rejoined.aligned.cased_nopunct.tsv',\n",
              " 'dakshina_dataset_v1.0/ur/romanized/ur.romanized.rejoined.dev.native.txt',\n",
              " 'dakshina_dataset_v1.0/ur/romanized/ur.romanized.rejoined.test.native.txt',\n",
              " 'dakshina_dataset_v1.0/ur/romanized/ur.romanized.split.validation.edits.txt',\n",
              " 'dakshina_dataset_v1.0/ur/romanized/ur.romanized.rejoined.aligned.tsv',\n",
              " 'dakshina_dataset_v1.0/ur/romanized/ur.romanized.split.tsv',\n",
              " 'dakshina_dataset_v1.0/ur/romanized/ur.romanized.rejoined.test.roman.txt',\n",
              " 'dakshina_dataset_v1.0/README.md']"
            ]
          },
          "metadata": {},
          "execution_count": 3
        }
      ]
    },
    {
      "cell_type": "code",
      "source": [
        "files_to_extract = [\n",
        "     'dakshina_dataset_v1.0/hi/lexicons/hi.translit.sampled.train.tsv',\n",
        "      'dakshina_dataset_v1.0/hi/lexicons/hi.translit.sampled.test.tsv',\n",
        "]"
      ],
      "metadata": {
        "id": "VEKMfxVcFb6F"
      },
      "execution_count": 4,
      "outputs": []
    },
    {
      "cell_type": "code",
      "source": [
        "for file in files_to_extract:\n",
        "    TarFile.extract(file)"
      ],
      "metadata": {
        "id": "oVGsN6n8LK7t"
      },
      "execution_count": 5,
      "outputs": []
    },
    {
      "cell_type": "code",
      "source": [
        "TarFile.close()"
      ],
      "metadata": {
        "id": "6vV-JWY8LynK"
      },
      "execution_count": 6,
      "outputs": []
    },
    {
      "cell_type": "markdown",
      "source": [
        "#Preprocessing"
      ],
      "metadata": {
        "id": "LCkEhhR5Lq23"
      }
    },
    {
      "cell_type": "code",
      "source": [
        "import pandas as pd"
      ],
      "metadata": {
        "id": "9fVc54OaLqbj"
      },
      "execution_count": 7,
      "outputs": []
    },
    {
      "cell_type": "code",
      "source": [
        "Train_df = pd.read_csv(\"/content/dakshina_dataset_v1.0/hi/lexicons/hi.translit.sampled.train.tsv\",sep=\"\\t\",header=None,names=[\"native\", \"romanized\", \"count\"])\n",
        "Test_df = pd.read_csv(\"/content/dakshina_dataset_v1.0/hi/lexicons/hi.translit.sampled.test.tsv\",sep=\"\\t\",header=None,names=[\"native\", \"romanized\", \"count\"])"
      ],
      "metadata": {
        "id": "U9bTB4j4LVv1"
      },
      "execution_count": 8,
      "outputs": []
    },
    {
      "cell_type": "code",
      "source": [
        "Train_df.head()"
      ],
      "metadata": {
        "colab": {
          "base_uri": "https://localhost:8080/",
          "height": 206
        },
        "id": "nktrRQRJL8xx",
        "outputId": "2be2efc1-c20f-41a5-b74e-166f472cfe12"
      },
      "execution_count": 9,
      "outputs": [
        {
          "output_type": "execute_result",
          "data": {
            "text/plain": [
              "    native romanized  count\n",
              "0       अं        an      3\n",
              "1  अंकगणित  ankganit      3\n",
              "2     अंकल     uncle      4\n",
              "3    अंकुर     ankur      4\n",
              "4   अंकुरण   ankuran      3"
            ],
            "text/html": [
              "\n",
              "  <div id=\"df-582d3eda-48f9-4764-b6d8-4831c02a25b0\" class=\"colab-df-container\">\n",
              "    <div>\n",
              "<style scoped>\n",
              "    .dataframe tbody tr th:only-of-type {\n",
              "        vertical-align: middle;\n",
              "    }\n",
              "\n",
              "    .dataframe tbody tr th {\n",
              "        vertical-align: top;\n",
              "    }\n",
              "\n",
              "    .dataframe thead th {\n",
              "        text-align: right;\n",
              "    }\n",
              "</style>\n",
              "<table border=\"1\" class=\"dataframe\">\n",
              "  <thead>\n",
              "    <tr style=\"text-align: right;\">\n",
              "      <th></th>\n",
              "      <th>native</th>\n",
              "      <th>romanized</th>\n",
              "      <th>count</th>\n",
              "    </tr>\n",
              "  </thead>\n",
              "  <tbody>\n",
              "    <tr>\n",
              "      <th>0</th>\n",
              "      <td>अं</td>\n",
              "      <td>an</td>\n",
              "      <td>3</td>\n",
              "    </tr>\n",
              "    <tr>\n",
              "      <th>1</th>\n",
              "      <td>अंकगणित</td>\n",
              "      <td>ankganit</td>\n",
              "      <td>3</td>\n",
              "    </tr>\n",
              "    <tr>\n",
              "      <th>2</th>\n",
              "      <td>अंकल</td>\n",
              "      <td>uncle</td>\n",
              "      <td>4</td>\n",
              "    </tr>\n",
              "    <tr>\n",
              "      <th>3</th>\n",
              "      <td>अंकुर</td>\n",
              "      <td>ankur</td>\n",
              "      <td>4</td>\n",
              "    </tr>\n",
              "    <tr>\n",
              "      <th>4</th>\n",
              "      <td>अंकुरण</td>\n",
              "      <td>ankuran</td>\n",
              "      <td>3</td>\n",
              "    </tr>\n",
              "  </tbody>\n",
              "</table>\n",
              "</div>\n",
              "    <div class=\"colab-df-buttons\">\n",
              "\n",
              "  <div class=\"colab-df-container\">\n",
              "    <button class=\"colab-df-convert\" onclick=\"convertToInteractive('df-582d3eda-48f9-4764-b6d8-4831c02a25b0')\"\n",
              "            title=\"Convert this dataframe to an interactive table.\"\n",
              "            style=\"display:none;\">\n",
              "\n",
              "  <svg xmlns=\"http://www.w3.org/2000/svg\" height=\"24px\" viewBox=\"0 -960 960 960\">\n",
              "    <path d=\"M120-120v-720h720v720H120Zm60-500h600v-160H180v160Zm220 220h160v-160H400v160Zm0 220h160v-160H400v160ZM180-400h160v-160H180v160Zm440 0h160v-160H620v160ZM180-180h160v-160H180v160Zm440 0h160v-160H620v160Z\"/>\n",
              "  </svg>\n",
              "    </button>\n",
              "\n",
              "  <style>\n",
              "    .colab-df-container {\n",
              "      display:flex;\n",
              "      gap: 12px;\n",
              "    }\n",
              "\n",
              "    .colab-df-convert {\n",
              "      background-color: #E8F0FE;\n",
              "      border: none;\n",
              "      border-radius: 50%;\n",
              "      cursor: pointer;\n",
              "      display: none;\n",
              "      fill: #1967D2;\n",
              "      height: 32px;\n",
              "      padding: 0 0 0 0;\n",
              "      width: 32px;\n",
              "    }\n",
              "\n",
              "    .colab-df-convert:hover {\n",
              "      background-color: #E2EBFA;\n",
              "      box-shadow: 0px 1px 2px rgba(60, 64, 67, 0.3), 0px 1px 3px 1px rgba(60, 64, 67, 0.15);\n",
              "      fill: #174EA6;\n",
              "    }\n",
              "\n",
              "    .colab-df-buttons div {\n",
              "      margin-bottom: 4px;\n",
              "    }\n",
              "\n",
              "    [theme=dark] .colab-df-convert {\n",
              "      background-color: #3B4455;\n",
              "      fill: #D2E3FC;\n",
              "    }\n",
              "\n",
              "    [theme=dark] .colab-df-convert:hover {\n",
              "      background-color: #434B5C;\n",
              "      box-shadow: 0px 1px 3px 1px rgba(0, 0, 0, 0.15);\n",
              "      filter: drop-shadow(0px 1px 2px rgba(0, 0, 0, 0.3));\n",
              "      fill: #FFFFFF;\n",
              "    }\n",
              "  </style>\n",
              "\n",
              "    <script>\n",
              "      const buttonEl =\n",
              "        document.querySelector('#df-582d3eda-48f9-4764-b6d8-4831c02a25b0 button.colab-df-convert');\n",
              "      buttonEl.style.display =\n",
              "        google.colab.kernel.accessAllowed ? 'block' : 'none';\n",
              "\n",
              "      async function convertToInteractive(key) {\n",
              "        const element = document.querySelector('#df-582d3eda-48f9-4764-b6d8-4831c02a25b0');\n",
              "        const dataTable =\n",
              "          await google.colab.kernel.invokeFunction('convertToInteractive',\n",
              "                                                    [key], {});\n",
              "        if (!dataTable) return;\n",
              "\n",
              "        const docLinkHtml = 'Like what you see? Visit the ' +\n",
              "          '<a target=\"_blank\" href=https://colab.research.google.com/notebooks/data_table.ipynb>data table notebook</a>'\n",
              "          + ' to learn more about interactive tables.';\n",
              "        element.innerHTML = '';\n",
              "        dataTable['output_type'] = 'display_data';\n",
              "        await google.colab.output.renderOutput(dataTable, element);\n",
              "        const docLink = document.createElement('div');\n",
              "        docLink.innerHTML = docLinkHtml;\n",
              "        element.appendChild(docLink);\n",
              "      }\n",
              "    </script>\n",
              "  </div>\n",
              "\n",
              "\n",
              "<div id=\"df-e9c3d070-d0fa-413f-9585-2f3d61b201a5\">\n",
              "  <button class=\"colab-df-quickchart\" onclick=\"quickchart('df-e9c3d070-d0fa-413f-9585-2f3d61b201a5')\"\n",
              "            title=\"Suggest charts\"\n",
              "            style=\"display:none;\">\n",
              "\n",
              "<svg xmlns=\"http://www.w3.org/2000/svg\" height=\"24px\"viewBox=\"0 0 24 24\"\n",
              "     width=\"24px\">\n",
              "    <g>\n",
              "        <path d=\"M19 3H5c-1.1 0-2 .9-2 2v14c0 1.1.9 2 2 2h14c1.1 0 2-.9 2-2V5c0-1.1-.9-2-2-2zM9 17H7v-7h2v7zm4 0h-2V7h2v10zm4 0h-2v-4h2v4z\"/>\n",
              "    </g>\n",
              "</svg>\n",
              "  </button>\n",
              "\n",
              "<style>\n",
              "  .colab-df-quickchart {\n",
              "      --bg-color: #E8F0FE;\n",
              "      --fill-color: #1967D2;\n",
              "      --hover-bg-color: #E2EBFA;\n",
              "      --hover-fill-color: #174EA6;\n",
              "      --disabled-fill-color: #AAA;\n",
              "      --disabled-bg-color: #DDD;\n",
              "  }\n",
              "\n",
              "  [theme=dark] .colab-df-quickchart {\n",
              "      --bg-color: #3B4455;\n",
              "      --fill-color: #D2E3FC;\n",
              "      --hover-bg-color: #434B5C;\n",
              "      --hover-fill-color: #FFFFFF;\n",
              "      --disabled-bg-color: #3B4455;\n",
              "      --disabled-fill-color: #666;\n",
              "  }\n",
              "\n",
              "  .colab-df-quickchart {\n",
              "    background-color: var(--bg-color);\n",
              "    border: none;\n",
              "    border-radius: 50%;\n",
              "    cursor: pointer;\n",
              "    display: none;\n",
              "    fill: var(--fill-color);\n",
              "    height: 32px;\n",
              "    padding: 0;\n",
              "    width: 32px;\n",
              "  }\n",
              "\n",
              "  .colab-df-quickchart:hover {\n",
              "    background-color: var(--hover-bg-color);\n",
              "    box-shadow: 0 1px 2px rgba(60, 64, 67, 0.3), 0 1px 3px 1px rgba(60, 64, 67, 0.15);\n",
              "    fill: var(--button-hover-fill-color);\n",
              "  }\n",
              "\n",
              "  .colab-df-quickchart-complete:disabled,\n",
              "  .colab-df-quickchart-complete:disabled:hover {\n",
              "    background-color: var(--disabled-bg-color);\n",
              "    fill: var(--disabled-fill-color);\n",
              "    box-shadow: none;\n",
              "  }\n",
              "\n",
              "  .colab-df-spinner {\n",
              "    border: 2px solid var(--fill-color);\n",
              "    border-color: transparent;\n",
              "    border-bottom-color: var(--fill-color);\n",
              "    animation:\n",
              "      spin 1s steps(1) infinite;\n",
              "  }\n",
              "\n",
              "  @keyframes spin {\n",
              "    0% {\n",
              "      border-color: transparent;\n",
              "      border-bottom-color: var(--fill-color);\n",
              "      border-left-color: var(--fill-color);\n",
              "    }\n",
              "    20% {\n",
              "      border-color: transparent;\n",
              "      border-left-color: var(--fill-color);\n",
              "      border-top-color: var(--fill-color);\n",
              "    }\n",
              "    30% {\n",
              "      border-color: transparent;\n",
              "      border-left-color: var(--fill-color);\n",
              "      border-top-color: var(--fill-color);\n",
              "      border-right-color: var(--fill-color);\n",
              "    }\n",
              "    40% {\n",
              "      border-color: transparent;\n",
              "      border-right-color: var(--fill-color);\n",
              "      border-top-color: var(--fill-color);\n",
              "    }\n",
              "    60% {\n",
              "      border-color: transparent;\n",
              "      border-right-color: var(--fill-color);\n",
              "    }\n",
              "    80% {\n",
              "      border-color: transparent;\n",
              "      border-right-color: var(--fill-color);\n",
              "      border-bottom-color: var(--fill-color);\n",
              "    }\n",
              "    90% {\n",
              "      border-color: transparent;\n",
              "      border-bottom-color: var(--fill-color);\n",
              "    }\n",
              "  }\n",
              "</style>\n",
              "\n",
              "  <script>\n",
              "    async function quickchart(key) {\n",
              "      const quickchartButtonEl =\n",
              "        document.querySelector('#' + key + ' button');\n",
              "      quickchartButtonEl.disabled = true;  // To prevent multiple clicks.\n",
              "      quickchartButtonEl.classList.add('colab-df-spinner');\n",
              "      try {\n",
              "        const charts = await google.colab.kernel.invokeFunction(\n",
              "            'suggestCharts', [key], {});\n",
              "      } catch (error) {\n",
              "        console.error('Error during call to suggestCharts:', error);\n",
              "      }\n",
              "      quickchartButtonEl.classList.remove('colab-df-spinner');\n",
              "      quickchartButtonEl.classList.add('colab-df-quickchart-complete');\n",
              "    }\n",
              "    (() => {\n",
              "      let quickchartButtonEl =\n",
              "        document.querySelector('#df-e9c3d070-d0fa-413f-9585-2f3d61b201a5 button');\n",
              "      quickchartButtonEl.style.display =\n",
              "        google.colab.kernel.accessAllowed ? 'block' : 'none';\n",
              "    })();\n",
              "  </script>\n",
              "</div>\n",
              "\n",
              "    </div>\n",
              "  </div>\n"
            ],
            "application/vnd.google.colaboratory.intrinsic+json": {
              "type": "dataframe",
              "variable_name": "Train_df",
              "summary": "{\n  \"name\": \"Train_df\",\n  \"rows\": 44204,\n  \"fields\": [\n    {\n      \"column\": \"native\",\n      \"properties\": {\n        \"dtype\": \"string\",\n        \"num_unique_values\": 25000,\n        \"samples\": [\n          \"\\u091a\\u093e\\u0902\\u092a\\u093e\",\n          \"\\u0938\\u094d\\u091f\\u0949\\u0915\\u0939\\u094b\\u092e\",\n          \"\\u0924\\u093e\\u0932\\u093e\\u092c\"\n        ],\n        \"semantic_type\": \"\",\n        \"description\": \"\"\n      }\n    },\n    {\n      \"column\": \"romanized\",\n      \"properties\": {\n        \"dtype\": \"string\",\n        \"num_unique_values\": 41344,\n        \"samples\": [\n          \"nishanebaazi\",\n          \"champu\",\n          \"bhej\"\n        ],\n        \"semantic_type\": \"\",\n        \"description\": \"\"\n      }\n    },\n    {\n      \"column\": \"count\",\n      \"properties\": {\n        \"dtype\": \"number\",\n        \"std\": 1,\n        \"min\": 1,\n        \"max\": 10,\n        \"num_unique_values\": 10,\n        \"samples\": [\n          10,\n          4,\n          6\n        ],\n        \"semantic_type\": \"\",\n        \"description\": \"\"\n      }\n    }\n  ]\n}"
            }
          },
          "metadata": {},
          "execution_count": 9
        }
      ]
    },
    {
      "cell_type": "code",
      "source": [
        "Test_df.head()"
      ],
      "metadata": {
        "colab": {
          "base_uri": "https://localhost:8080/",
          "height": 206
        },
        "id": "YtuVZYaUMCIl",
        "outputId": "fb24b36d-d34a-4ac9-9602-857b08b5db96"
      },
      "execution_count": 10,
      "outputs": [
        {
          "output_type": "execute_result",
          "data": {
            "text/plain": [
              "  native romanized  count\n",
              "0    अंक       ank      5\n",
              "1    अंक      anka      1\n",
              "2  अंकित     ankit      3\n",
              "3  अंकों    anakon      1\n",
              "4  अंकों    ankhon      1"
            ],
            "text/html": [
              "\n",
              "  <div id=\"df-faf3e749-9513-4966-8fa3-c27c7bcdae29\" class=\"colab-df-container\">\n",
              "    <div>\n",
              "<style scoped>\n",
              "    .dataframe tbody tr th:only-of-type {\n",
              "        vertical-align: middle;\n",
              "    }\n",
              "\n",
              "    .dataframe tbody tr th {\n",
              "        vertical-align: top;\n",
              "    }\n",
              "\n",
              "    .dataframe thead th {\n",
              "        text-align: right;\n",
              "    }\n",
              "</style>\n",
              "<table border=\"1\" class=\"dataframe\">\n",
              "  <thead>\n",
              "    <tr style=\"text-align: right;\">\n",
              "      <th></th>\n",
              "      <th>native</th>\n",
              "      <th>romanized</th>\n",
              "      <th>count</th>\n",
              "    </tr>\n",
              "  </thead>\n",
              "  <tbody>\n",
              "    <tr>\n",
              "      <th>0</th>\n",
              "      <td>अंक</td>\n",
              "      <td>ank</td>\n",
              "      <td>5</td>\n",
              "    </tr>\n",
              "    <tr>\n",
              "      <th>1</th>\n",
              "      <td>अंक</td>\n",
              "      <td>anka</td>\n",
              "      <td>1</td>\n",
              "    </tr>\n",
              "    <tr>\n",
              "      <th>2</th>\n",
              "      <td>अंकित</td>\n",
              "      <td>ankit</td>\n",
              "      <td>3</td>\n",
              "    </tr>\n",
              "    <tr>\n",
              "      <th>3</th>\n",
              "      <td>अंकों</td>\n",
              "      <td>anakon</td>\n",
              "      <td>1</td>\n",
              "    </tr>\n",
              "    <tr>\n",
              "      <th>4</th>\n",
              "      <td>अंकों</td>\n",
              "      <td>ankhon</td>\n",
              "      <td>1</td>\n",
              "    </tr>\n",
              "  </tbody>\n",
              "</table>\n",
              "</div>\n",
              "    <div class=\"colab-df-buttons\">\n",
              "\n",
              "  <div class=\"colab-df-container\">\n",
              "    <button class=\"colab-df-convert\" onclick=\"convertToInteractive('df-faf3e749-9513-4966-8fa3-c27c7bcdae29')\"\n",
              "            title=\"Convert this dataframe to an interactive table.\"\n",
              "            style=\"display:none;\">\n",
              "\n",
              "  <svg xmlns=\"http://www.w3.org/2000/svg\" height=\"24px\" viewBox=\"0 -960 960 960\">\n",
              "    <path d=\"M120-120v-720h720v720H120Zm60-500h600v-160H180v160Zm220 220h160v-160H400v160Zm0 220h160v-160H400v160ZM180-400h160v-160H180v160Zm440 0h160v-160H620v160ZM180-180h160v-160H180v160Zm440 0h160v-160H620v160Z\"/>\n",
              "  </svg>\n",
              "    </button>\n",
              "\n",
              "  <style>\n",
              "    .colab-df-container {\n",
              "      display:flex;\n",
              "      gap: 12px;\n",
              "    }\n",
              "\n",
              "    .colab-df-convert {\n",
              "      background-color: #E8F0FE;\n",
              "      border: none;\n",
              "      border-radius: 50%;\n",
              "      cursor: pointer;\n",
              "      display: none;\n",
              "      fill: #1967D2;\n",
              "      height: 32px;\n",
              "      padding: 0 0 0 0;\n",
              "      width: 32px;\n",
              "    }\n",
              "\n",
              "    .colab-df-convert:hover {\n",
              "      background-color: #E2EBFA;\n",
              "      box-shadow: 0px 1px 2px rgba(60, 64, 67, 0.3), 0px 1px 3px 1px rgba(60, 64, 67, 0.15);\n",
              "      fill: #174EA6;\n",
              "    }\n",
              "\n",
              "    .colab-df-buttons div {\n",
              "      margin-bottom: 4px;\n",
              "    }\n",
              "\n",
              "    [theme=dark] .colab-df-convert {\n",
              "      background-color: #3B4455;\n",
              "      fill: #D2E3FC;\n",
              "    }\n",
              "\n",
              "    [theme=dark] .colab-df-convert:hover {\n",
              "      background-color: #434B5C;\n",
              "      box-shadow: 0px 1px 3px 1px rgba(0, 0, 0, 0.15);\n",
              "      filter: drop-shadow(0px 1px 2px rgba(0, 0, 0, 0.3));\n",
              "      fill: #FFFFFF;\n",
              "    }\n",
              "  </style>\n",
              "\n",
              "    <script>\n",
              "      const buttonEl =\n",
              "        document.querySelector('#df-faf3e749-9513-4966-8fa3-c27c7bcdae29 button.colab-df-convert');\n",
              "      buttonEl.style.display =\n",
              "        google.colab.kernel.accessAllowed ? 'block' : 'none';\n",
              "\n",
              "      async function convertToInteractive(key) {\n",
              "        const element = document.querySelector('#df-faf3e749-9513-4966-8fa3-c27c7bcdae29');\n",
              "        const dataTable =\n",
              "          await google.colab.kernel.invokeFunction('convertToInteractive',\n",
              "                                                    [key], {});\n",
              "        if (!dataTable) return;\n",
              "\n",
              "        const docLinkHtml = 'Like what you see? Visit the ' +\n",
              "          '<a target=\"_blank\" href=https://colab.research.google.com/notebooks/data_table.ipynb>data table notebook</a>'\n",
              "          + ' to learn more about interactive tables.';\n",
              "        element.innerHTML = '';\n",
              "        dataTable['output_type'] = 'display_data';\n",
              "        await google.colab.output.renderOutput(dataTable, element);\n",
              "        const docLink = document.createElement('div');\n",
              "        docLink.innerHTML = docLinkHtml;\n",
              "        element.appendChild(docLink);\n",
              "      }\n",
              "    </script>\n",
              "  </div>\n",
              "\n",
              "\n",
              "<div id=\"df-c777676b-b1cc-4c92-8878-11217263fc9d\">\n",
              "  <button class=\"colab-df-quickchart\" onclick=\"quickchart('df-c777676b-b1cc-4c92-8878-11217263fc9d')\"\n",
              "            title=\"Suggest charts\"\n",
              "            style=\"display:none;\">\n",
              "\n",
              "<svg xmlns=\"http://www.w3.org/2000/svg\" height=\"24px\"viewBox=\"0 0 24 24\"\n",
              "     width=\"24px\">\n",
              "    <g>\n",
              "        <path d=\"M19 3H5c-1.1 0-2 .9-2 2v14c0 1.1.9 2 2 2h14c1.1 0 2-.9 2-2V5c0-1.1-.9-2-2-2zM9 17H7v-7h2v7zm4 0h-2V7h2v10zm4 0h-2v-4h2v4z\"/>\n",
              "    </g>\n",
              "</svg>\n",
              "  </button>\n",
              "\n",
              "<style>\n",
              "  .colab-df-quickchart {\n",
              "      --bg-color: #E8F0FE;\n",
              "      --fill-color: #1967D2;\n",
              "      --hover-bg-color: #E2EBFA;\n",
              "      --hover-fill-color: #174EA6;\n",
              "      --disabled-fill-color: #AAA;\n",
              "      --disabled-bg-color: #DDD;\n",
              "  }\n",
              "\n",
              "  [theme=dark] .colab-df-quickchart {\n",
              "      --bg-color: #3B4455;\n",
              "      --fill-color: #D2E3FC;\n",
              "      --hover-bg-color: #434B5C;\n",
              "      --hover-fill-color: #FFFFFF;\n",
              "      --disabled-bg-color: #3B4455;\n",
              "      --disabled-fill-color: #666;\n",
              "  }\n",
              "\n",
              "  .colab-df-quickchart {\n",
              "    background-color: var(--bg-color);\n",
              "    border: none;\n",
              "    border-radius: 50%;\n",
              "    cursor: pointer;\n",
              "    display: none;\n",
              "    fill: var(--fill-color);\n",
              "    height: 32px;\n",
              "    padding: 0;\n",
              "    width: 32px;\n",
              "  }\n",
              "\n",
              "  .colab-df-quickchart:hover {\n",
              "    background-color: var(--hover-bg-color);\n",
              "    box-shadow: 0 1px 2px rgba(60, 64, 67, 0.3), 0 1px 3px 1px rgba(60, 64, 67, 0.15);\n",
              "    fill: var(--button-hover-fill-color);\n",
              "  }\n",
              "\n",
              "  .colab-df-quickchart-complete:disabled,\n",
              "  .colab-df-quickchart-complete:disabled:hover {\n",
              "    background-color: var(--disabled-bg-color);\n",
              "    fill: var(--disabled-fill-color);\n",
              "    box-shadow: none;\n",
              "  }\n",
              "\n",
              "  .colab-df-spinner {\n",
              "    border: 2px solid var(--fill-color);\n",
              "    border-color: transparent;\n",
              "    border-bottom-color: var(--fill-color);\n",
              "    animation:\n",
              "      spin 1s steps(1) infinite;\n",
              "  }\n",
              "\n",
              "  @keyframes spin {\n",
              "    0% {\n",
              "      border-color: transparent;\n",
              "      border-bottom-color: var(--fill-color);\n",
              "      border-left-color: var(--fill-color);\n",
              "    }\n",
              "    20% {\n",
              "      border-color: transparent;\n",
              "      border-left-color: var(--fill-color);\n",
              "      border-top-color: var(--fill-color);\n",
              "    }\n",
              "    30% {\n",
              "      border-color: transparent;\n",
              "      border-left-color: var(--fill-color);\n",
              "      border-top-color: var(--fill-color);\n",
              "      border-right-color: var(--fill-color);\n",
              "    }\n",
              "    40% {\n",
              "      border-color: transparent;\n",
              "      border-right-color: var(--fill-color);\n",
              "      border-top-color: var(--fill-color);\n",
              "    }\n",
              "    60% {\n",
              "      border-color: transparent;\n",
              "      border-right-color: var(--fill-color);\n",
              "    }\n",
              "    80% {\n",
              "      border-color: transparent;\n",
              "      border-right-color: var(--fill-color);\n",
              "      border-bottom-color: var(--fill-color);\n",
              "    }\n",
              "    90% {\n",
              "      border-color: transparent;\n",
              "      border-bottom-color: var(--fill-color);\n",
              "    }\n",
              "  }\n",
              "</style>\n",
              "\n",
              "  <script>\n",
              "    async function quickchart(key) {\n",
              "      const quickchartButtonEl =\n",
              "        document.querySelector('#' + key + ' button');\n",
              "      quickchartButtonEl.disabled = true;  // To prevent multiple clicks.\n",
              "      quickchartButtonEl.classList.add('colab-df-spinner');\n",
              "      try {\n",
              "        const charts = await google.colab.kernel.invokeFunction(\n",
              "            'suggestCharts', [key], {});\n",
              "      } catch (error) {\n",
              "        console.error('Error during call to suggestCharts:', error);\n",
              "      }\n",
              "      quickchartButtonEl.classList.remove('colab-df-spinner');\n",
              "      quickchartButtonEl.classList.add('colab-df-quickchart-complete');\n",
              "    }\n",
              "    (() => {\n",
              "      let quickchartButtonEl =\n",
              "        document.querySelector('#df-c777676b-b1cc-4c92-8878-11217263fc9d button');\n",
              "      quickchartButtonEl.style.display =\n",
              "        google.colab.kernel.accessAllowed ? 'block' : 'none';\n",
              "    })();\n",
              "  </script>\n",
              "</div>\n",
              "\n",
              "    </div>\n",
              "  </div>\n"
            ],
            "application/vnd.google.colaboratory.intrinsic+json": {
              "type": "dataframe",
              "variable_name": "Test_df",
              "summary": "{\n  \"name\": \"Test_df\",\n  \"rows\": 4502,\n  \"fields\": [\n    {\n      \"column\": \"native\",\n      \"properties\": {\n        \"dtype\": \"string\",\n        \"num_unique_values\": 2500,\n        \"samples\": [\n          \"\\u092b\\u094d\\u092f\\u0942\\u091c\\u0928\",\n          \"\\u0928\\u0935\\u091c\\u093e\\u0917\\u0930\\u0923\",\n          \"\\u0927\\u0928\\u0927\\u093e\\u0928\\u094d\\u092f\"\n        ],\n        \"semantic_type\": \"\",\n        \"description\": \"\"\n      }\n    },\n    {\n      \"column\": \"romanized\",\n      \"properties\": {\n        \"dtype\": \"string\",\n        \"num_unique_values\": 4442,\n        \"samples\": [\n          \"pythogaras\",\n          \"navya\",\n          \"dhokebaaj\"\n        ],\n        \"semantic_type\": \"\",\n        \"description\": \"\"\n      }\n    },\n    {\n      \"column\": \"count\",\n      \"properties\": {\n        \"dtype\": \"number\",\n        \"std\": 1,\n        \"min\": 1,\n        \"max\": 10,\n        \"num_unique_values\": 10,\n        \"samples\": [\n          9,\n          1,\n          4\n        ],\n        \"semantic_type\": \"\",\n        \"description\": \"\"\n      }\n    }\n  ]\n}"
            }
          },
          "metadata": {},
          "execution_count": 10
        }
      ]
    },
    {
      "cell_type": "code",
      "source": [
        "Train_df.info()"
      ],
      "metadata": {
        "colab": {
          "base_uri": "https://localhost:8080/"
        },
        "id": "SeX8c3AxMgco",
        "outputId": "0d8ebea8-384a-44f3-e1fb-c5f6296e40b1"
      },
      "execution_count": 11,
      "outputs": [
        {
          "output_type": "stream",
          "name": "stdout",
          "text": [
            "<class 'pandas.core.frame.DataFrame'>\n",
            "RangeIndex: 44204 entries, 0 to 44203\n",
            "Data columns (total 3 columns):\n",
            " #   Column     Non-Null Count  Dtype \n",
            "---  ------     --------------  ----- \n",
            " 0   native     44204 non-null  object\n",
            " 1   romanized  44202 non-null  object\n",
            " 2   count      44204 non-null  int64 \n",
            "dtypes: int64(1), object(2)\n",
            "memory usage: 1.0+ MB\n"
          ]
        }
      ]
    },
    {
      "cell_type": "code",
      "source": [
        "Test_df.info()"
      ],
      "metadata": {
        "colab": {
          "base_uri": "https://localhost:8080/"
        },
        "id": "tMhB28s0Mj34",
        "outputId": "c10e9e06-e4c2-49ba-e9cf-fc1876d76628"
      },
      "execution_count": 12,
      "outputs": [
        {
          "output_type": "stream",
          "name": "stdout",
          "text": [
            "<class 'pandas.core.frame.DataFrame'>\n",
            "RangeIndex: 4502 entries, 0 to 4501\n",
            "Data columns (total 3 columns):\n",
            " #   Column     Non-Null Count  Dtype \n",
            "---  ------     --------------  ----- \n",
            " 0   native     4502 non-null   object\n",
            " 1   romanized  4502 non-null   object\n",
            " 2   count      4502 non-null   int64 \n",
            "dtypes: int64(1), object(2)\n",
            "memory usage: 105.6+ KB\n"
          ]
        }
      ]
    },
    {
      "cell_type": "code",
      "source": [
        "for df in [Train_df, Test_df]:\n",
        "    df.dropna(subset=['romanized', 'native'], inplace=True)\n",
        "    df['romanized'] = df['romanized'].astype(str)\n",
        "    df['native']    = df['native'].astype(str)"
      ],
      "metadata": {
        "id": "swAApkSBiiGF"
      },
      "execution_count": 13,
      "outputs": []
    },
    {
      "cell_type": "markdown",
      "source": [
        "# Encoding Data to feed into RNN"
      ],
      "metadata": {
        "id": "UQ5p9A8pFK7Z"
      }
    },
    {
      "cell_type": "code",
      "source": [
        "input_texts = []\n",
        "output_texts = []\n",
        "input_characters = set([\" \"])\n",
        "output_characters = set([\"\\t\", \"\\n\", \" \"])  # include start and end markers\n",
        "\n",
        "# Collect unique characters and wrap target in start/end tokens\n",
        "for _, row in Train_df.iterrows():\n",
        "    input_seq = row['romanized']\n",
        "    target_seq = row['native']\n",
        "    input_texts.append(input_seq)\n",
        "    output_texts.append(\"\\t\" + target_seq + \"\\n\")\n",
        "\n",
        "    input_characters.update(set(input_seq))\n",
        "    output_characters.update(set(target_seq))\n",
        "\n",
        "# Sort and build token indices\n",
        "input_characters = sorted(list(input_characters))\n",
        "target_characters = sorted(list(output_characters))\n",
        "\n",
        "input_token_index = {char: i for i, char in enumerate(input_characters)}\n",
        "target_token_index = {char: i for i, char in enumerate(target_characters)}\n",
        "reverse_target_char_index = {i: char for char, i in target_token_index.items()}\n",
        "\n",
        "num_encoder_tokens = len(input_characters)\n",
        "num_decoder_tokens = len(target_characters)\n",
        "max_encoder_seq_length = max(len(txt) for txt in input_texts)\n",
        "max_decoder_seq_length = max(len(txt) for txt in output_texts)\n",
        "\n",
        "# Initialize empty one-hot encoded arrays\n",
        "encoder_input_data = np.zeros(\n",
        "    (len(input_texts), max_encoder_seq_length, num_encoder_tokens), dtype=\"float32\"\n",
        ")\n",
        "decoder_input_data = np.zeros(\n",
        "    (len(input_texts), max_decoder_seq_length, num_decoder_tokens), dtype=\"float32\"\n",
        ")\n",
        "decoder_target_data = np.zeros(\n",
        "    (len(input_texts), max_decoder_seq_length, num_decoder_tokens), dtype=\"float32\"\n",
        ")\n",
        "\n",
        "# Populate one-hot arrays\n",
        "for i, (inp_text, tar_text) in enumerate(zip(input_texts, output_texts)):\n",
        "    for t, char in enumerate(inp_text):\n",
        "        encoder_input_data[i, t, input_token_index[char]] = 1.0\n",
        "    encoder_input_data[i, t + 1 :, input_token_index[\" \"]] = 1.0  # padding\n",
        "\n",
        "    for t, char in enumerate(tar_text):\n",
        "        decoder_input_data[i, t, target_token_index[char]] = 1.0\n",
        "        if t > 0:\n",
        "            decoder_target_data[i, t - 1, target_token_index[char]] = 1.0\n",
        "    decoder_input_data[i, t + 1 :, target_token_index[\" \"]] = 1.0\n",
        "    decoder_target_data[i, t:, target_token_index[\" \"]] = 1.0"
      ],
      "metadata": {
        "id": "UOZKKbCwQkw8"
      },
      "execution_count": 14,
      "outputs": []
    },
    {
      "cell_type": "code",
      "source": [
        "print(num_encoder_tokens)\n",
        "print(num_decoder_tokens)"
      ],
      "metadata": {
        "colab": {
          "base_uri": "https://localhost:8080/"
        },
        "id": "N8kkijDxm1Qf",
        "outputId": "aa9fe9cd-333d-495a-8ccd-74d8036a8fda"
      },
      "execution_count": 15,
      "outputs": [
        {
          "output_type": "stream",
          "name": "stdout",
          "text": [
            "27\n",
            "66\n"
          ]
        }
      ]
    },
    {
      "cell_type": "markdown",
      "source": [
        "#Model A"
      ],
      "metadata": {
        "id": "NzIJ2RIIJsn8"
      }
    },
    {
      "cell_type": "code",
      "source": [
        "import keras"
      ],
      "metadata": {
        "id": "T-p2GB-iJx0T"
      },
      "execution_count": 16,
      "outputs": []
    },
    {
      "cell_type": "code",
      "source": [
        "latent_dim = 128"
      ],
      "metadata": {
        "id": "pcger05VJ2H3"
      },
      "execution_count": 17,
      "outputs": []
    },
    {
      "cell_type": "code",
      "source": [
        "encoder_inputs = keras.Input(shape=(None, num_encoder_tokens))\n",
        "encoder = keras.layers.LSTM(latent_dim, return_state=True)\n",
        "encoder_outputs, state_h, state_c = encoder(encoder_inputs)\n",
        "\n",
        "# We discard `encoder_outputs` and only keep the states.\n",
        "encoder_states = [state_h, state_c]\n",
        "\n",
        "# Set up the decoder, using `encoder_states` as initial state.\n",
        "decoder_inputs = keras.Input(shape=(None, num_decoder_tokens))\n",
        "\n",
        "# We set up our decoder to return full output sequences,\n",
        "# and to return internal states as well. We don't use the\n",
        "# return states in the training model, but we will use them in inference.\n",
        "decoder_lstm = keras.layers.LSTM(latent_dim, return_sequences=True, return_state=True)\n",
        "decoder_outputs, _, _ = decoder_lstm(decoder_inputs, initial_state=encoder_states)\n",
        "decoder_dense = keras.layers.Dense(num_decoder_tokens, activation=\"softmax\")\n",
        "decoder_outputs = decoder_dense(decoder_outputs)\n",
        "\n",
        "# Define the model that will turn\n",
        "# `encoder_input_data` & `decoder_input_data` into `decoder_target_data`\n",
        "model = keras.Model([encoder_inputs, decoder_inputs], decoder_outputs)"
      ],
      "metadata": {
        "id": "rGAVeWWHHPG6"
      },
      "execution_count": null,
      "outputs": []
    },
    {
      "cell_type": "code",
      "source": [
        "model.summary()"
      ],
      "metadata": {
        "colab": {
          "base_uri": "https://localhost:8080/",
          "height": 141
        },
        "id": "UwkUuVGaKI_I",
        "outputId": "5d38cbc0-04cf-4ee2-c9c2-2ed3ede6c614"
      },
      "execution_count": 18,
      "outputs": [
        {
          "output_type": "error",
          "ename": "NameError",
          "evalue": "name 'model' is not defined",
          "traceback": [
            "\u001b[0;31m---------------------------------------------------------------------------\u001b[0m",
            "\u001b[0;31mNameError\u001b[0m                                 Traceback (most recent call last)",
            "\u001b[0;32m<ipython-input-18-5f15418b3570>\u001b[0m in \u001b[0;36m<cell line: 0>\u001b[0;34m()\u001b[0m\n\u001b[0;32m----> 1\u001b[0;31m \u001b[0mmodel\u001b[0m\u001b[0;34m.\u001b[0m\u001b[0msummary\u001b[0m\u001b[0;34m(\u001b[0m\u001b[0;34m)\u001b[0m\u001b[0;34m\u001b[0m\u001b[0;34m\u001b[0m\u001b[0m\n\u001b[0m",
            "\u001b[0;31mNameError\u001b[0m: name 'model' is not defined"
          ]
        }
      ]
    },
    {
      "cell_type": "code",
      "source": [
        "model.compile(\n",
        "    optimizer=\"rmsprop\", loss=\"categorical_crossentropy\", metrics=[\"accuracy\"]\n",
        ")\n",
        "model.fit(\n",
        "    [encoder_input_data, decoder_input_data],\n",
        "    decoder_target_data,\n",
        "    batch_size=32,\n",
        "    epochs=5,\n",
        "    validation_split=0.2,\n",
        ")\n",
        "# Save model\n"
      ],
      "metadata": {
        "colab": {
          "base_uri": "https://localhost:8080/"
        },
        "id": "c1SNmvAMJ067",
        "outputId": "fd861f19-8cd9-47ee-9732-82182f630d28"
      },
      "execution_count": null,
      "outputs": [
        {
          "output_type": "stream",
          "name": "stdout",
          "text": [
            "Epoch 1/5\n",
            "\u001b[1m1106/1106\u001b[0m \u001b[32m━━━━━━━━━━━━━━━━━━━━\u001b[0m\u001b[37m\u001b[0m \u001b[1m14s\u001b[0m 11ms/step - accuracy: 0.7085 - loss: 1.2239 - val_accuracy: 0.7396 - val_loss: 1.0506\n",
            "Epoch 2/5\n",
            "\u001b[1m1106/1106\u001b[0m \u001b[32m━━━━━━━━━━━━━━━━━━━━\u001b[0m\u001b[37m\u001b[0m \u001b[1m12s\u001b[0m 11ms/step - accuracy: 0.7810 - loss: 0.8007 - val_accuracy: 0.7514 - val_loss: 0.9871\n",
            "Epoch 3/5\n",
            "\u001b[1m1106/1106\u001b[0m \u001b[32m━━━━━━━━━━━━━━━━━━━━\u001b[0m\u001b[37m\u001b[0m \u001b[1m17s\u001b[0m 7ms/step - accuracy: 0.8185 - loss: 0.6286 - val_accuracy: 0.7447 - val_loss: 1.0182\n",
            "Epoch 4/5\n",
            "\u001b[1m1106/1106\u001b[0m \u001b[32m━━━━━━━━━━━━━━━━━━━━\u001b[0m\u001b[37m\u001b[0m \u001b[1m9s\u001b[0m 8ms/step - accuracy: 0.8457 - loss: 0.5115 - val_accuracy: 0.7648 - val_loss: 0.9770\n",
            "Epoch 5/5\n",
            "\u001b[1m1106/1106\u001b[0m \u001b[32m━━━━━━━━━━━━━━━━━━━━\u001b[0m\u001b[37m\u001b[0m \u001b[1m8s\u001b[0m 7ms/step - accuracy: 0.8683 - loss: 0.4236 - val_accuracy: 0.7875 - val_loss: 0.7665\n"
          ]
        },
        {
          "output_type": "execute_result",
          "data": {
            "text/plain": [
              "<keras.src.callbacks.history.History at 0x7a0fea03fd90>"
            ]
          },
          "metadata": {},
          "execution_count": 19
        }
      ]
    },
    {
      "cell_type": "code",
      "source": [
        "model.save(\"s2s_model.keras\")"
      ],
      "metadata": {
        "id": "0Qtnwytqt5M5"
      },
      "execution_count": null,
      "outputs": []
    },
    {
      "cell_type": "code",
      "source": [
        "model = keras.models.load_model(\"s2s_model.keras\")\n",
        "\n",
        "encoder_inputs = model.input[0]  # input_1\n",
        "encoder_outputs, state_h_enc, state_c_enc = model.layers[2].output  # lstm_1\n",
        "encoder_states = [state_h_enc, state_c_enc]\n",
        "encoder_model = keras.Model(encoder_inputs, encoder_states)\n",
        "\n",
        "decoder_inputs = model.input[1]  # input_2\n",
        "decoder_state_input_h = keras.Input(shape=(latent_dim,))\n",
        "decoder_state_input_c = keras.Input(shape=(latent_dim,))\n",
        "decoder_states_inputs = [decoder_state_input_h, decoder_state_input_c]\n",
        "decoder_lstm = model.layers[3]\n",
        "decoder_outputs, state_h_dec, state_c_dec = decoder_lstm(\n",
        "    decoder_inputs, initial_state=decoder_states_inputs\n",
        ")\n",
        "decoder_states = [state_h_dec, state_c_dec]\n",
        "decoder_dense = model.layers[4]\n",
        "decoder_outputs = decoder_dense(decoder_outputs)\n",
        "decoder_model = keras.Model(\n",
        "    [decoder_inputs] + decoder_states_inputs, [decoder_outputs] + decoder_states\n",
        ")\n",
        "\n",
        "# Reverse-lookup token index to decode sequences back to\n",
        "# something readable.\n",
        "reverse_input_char_index = dict((i, char) for char, i in input_token_index.items())\n",
        "reverse_target_char_index = dict((i, char) for char, i in target_token_index.items())\n",
        "\n",
        "\n",
        "def decode_sequence(input_seq):\n",
        "    # Encode the input as state vectors.\n",
        "    states_value = encoder_model.predict(input_seq, verbose=0)\n",
        "\n",
        "    # Generate empty target sequence of length 1.\n",
        "    target_seq = np.zeros((1, 1, num_decoder_tokens))\n",
        "    # Populate the first character of target sequence with the start character.\n",
        "    target_seq[0, 0, target_token_index[\"\\t\"]] = 1.0\n",
        "\n",
        "    # Sampling loop for a batch of sequences\n",
        "    # (to simplify, here we assume a batch of size 1).\n",
        "    stop_condition = False\n",
        "    decoded_sentence = \"\"\n",
        "    while not stop_condition:\n",
        "        output_tokens, h, c = decoder_model.predict(\n",
        "            [target_seq] + states_value, verbose=0\n",
        "        )\n",
        "\n",
        "        # Sample a token\n",
        "        sampled_token_index = np.argmax(output_tokens[0, -1, :])\n",
        "        sampled_char = reverse_target_char_index[sampled_token_index]\n",
        "        decoded_sentence += sampled_char\n",
        "\n",
        "        # Exit condition: either hit max length\n",
        "        # or find stop character.\n",
        "        if sampled_char == \"\\n\" or len(decoded_sentence) > max_decoder_seq_length:\n",
        "            stop_condition = True\n",
        "\n",
        "        # Update the target sequence (of length 1).\n",
        "        target_seq = np.zeros((1, 1, num_decoder_tokens))\n",
        "        target_seq[0, 0, sampled_token_index] = 1.0\n",
        "\n",
        "        # Update states\n",
        "        states_value = [h, c]\n",
        "    return decoded_sentence"
      ],
      "metadata": {
        "id": "6r0x4VGQqobH"
      },
      "execution_count": null,
      "outputs": []
    },
    {
      "cell_type": "code",
      "source": [
        "for seq_index in range(20):\n",
        "    # Take one sequence (part of the training set)\n",
        "    # for trying out decoding.\n",
        "    input_seq = encoder_input_data[seq_index : seq_index + 1]\n",
        "    decoded_sentence = decode_sequence(input_seq)\n",
        "    print(\"-\")\n",
        "    print(\"Input sentence:\", input_texts[seq_index])\n",
        "    print(\"Decoded sentence:\", decoded_sentence)"
      ],
      "metadata": {
        "colab": {
          "base_uri": "https://localhost:8080/"
        },
        "id": "cMXG6WMnq7Ir",
        "outputId": "3afc0c9c-c2b7-474c-91ca-c8ada4273c6b"
      },
      "execution_count": null,
      "outputs": [
        {
          "output_type": "stream",
          "name": "stdout",
          "text": [
            "-\n",
            "Input sentence: an\n",
            "Decoded sentence: ना\n",
            "\n",
            "-\n",
            "Input sentence: ankganit\n",
            "Decoded sentence: अनकजेंता\n",
            "\n",
            "-\n",
            "Input sentence: uncle\n",
            "Decoded sentence: एंसेड\n",
            "\n",
            "-\n",
            "Input sentence: ankur\n",
            "Decoded sentence: अनकरों\n",
            "\n",
            "-\n",
            "Input sentence: ankuran\n",
            "Decoded sentence: अनकरों\n",
            "\n",
            "-\n",
            "Input sentence: ankurit\n",
            "Decoded sentence: अन्कृतिक\n",
            "\n",
            "-\n",
            "Input sentence: aankush\n",
            "Decoded sentence: आनक्षों\n",
            "\n",
            "-\n",
            "Input sentence: ankush\n",
            "Decoded sentence: अनुक्षा\n",
            "\n",
            "-\n",
            "Input sentence: ang\n",
            "Decoded sentence: अंग\n",
            "\n",
            "-\n",
            "Input sentence: anga\n",
            "Decoded sentence: अंगा\n",
            "\n",
            "-\n",
            "Input sentence: agandh\n",
            "Decoded sentence: अगंडा\n",
            "\n",
            "-\n",
            "Input sentence: angad\n",
            "Decoded sentence: अंगड़ा\n",
            "\n",
            "-\n",
            "Input sentence: angane\n",
            "Decoded sentence: अनजने\n",
            "\n",
            "-\n",
            "Input sentence: angbhang\n",
            "Decoded sentence: अंगंगार\n",
            "\n",
            "-\n",
            "Input sentence: angarakshak\n",
            "Decoded sentence: अंसर्जार्ण\n",
            "\n",
            "-\n",
            "Input sentence: angrakshak\n",
            "Decoded sentence: अंसर्जार्क\n",
            "\n",
            "-\n",
            "Input sentence: angara\n",
            "Decoded sentence: अंगरा\n",
            "\n",
            "-\n",
            "Input sentence: angaare\n",
            "Decoded sentence: अंगरान\n",
            "\n",
            "-\n",
            "Input sentence: angare\n",
            "Decoded sentence: अंगरें\n",
            "\n",
            "-\n",
            "Input sentence: angi\n",
            "Decoded sentence: अनेजी\n",
            "\n"
          ]
        }
      ]
    },
    {
      "cell_type": "markdown",
      "source": [
        "#model B"
      ],
      "metadata": {
        "id": "FBaxLv9bUbnv"
      }
    },
    {
      "cell_type": "code",
      "source": [
        "import keras"
      ],
      "metadata": {
        "id": "mHiPILEsbn73"
      },
      "execution_count": null,
      "outputs": []
    },
    {
      "cell_type": "code",
      "source": [
        "latent_dim = 32"
      ],
      "metadata": {
        "id": "wQol5RfFUHI_"
      },
      "execution_count": null,
      "outputs": []
    },
    {
      "cell_type": "code",
      "source": [
        "encoder_inputs = keras.Input(shape=(None,num_encoder_tokens))\n",
        "encoder = keras.layers.SimpleRNN(latent_dim, return_state=True)\n",
        "encoder_outputs, state_h = encoder(encoder_inputs)\n",
        "\n",
        "# For SimpleRNN, there's only one state (state_h)\n",
        "encoder_states = [state_h]\n",
        "\n",
        "# Decoder\n",
        "decoder_inputs = keras.Input(shape=(None,num_decoder_tokens))\n",
        "decoder_rnn = keras.layers.SimpleRNN(latent_dim, return_sequences=True, return_state=True)\n",
        "decoder_outputs, _ = decoder_rnn(decoder_inputs, initial_state=encoder_states)\n",
        "\n",
        "# Dense output layer\n",
        "decoder_dense = keras.layers.Dense(num_decoder_tokens, activation=\"softmax\")\n",
        "decoder_outputs = decoder_dense(decoder_outputs)\n",
        "\n",
        "# Final model\n",
        "model_B = keras.Model([encoder_inputs, decoder_inputs], decoder_outputs)"
      ],
      "metadata": {
        "id": "gpXMeB-CeomZ"
      },
      "execution_count": 19,
      "outputs": []
    },
    {
      "cell_type": "code",
      "source": [
        "model_B.summary()"
      ],
      "metadata": {
        "colab": {
          "base_uri": "https://localhost:8080/",
          "height": 391
        },
        "id": "1ucPz4VPKNbe",
        "outputId": "7a5c8592-aa13-4e1d-c3f7-aeab527508b2"
      },
      "execution_count": 20,
      "outputs": [
        {
          "output_type": "display_data",
          "data": {
            "text/plain": [
              "\u001b[1mModel: \"functional\"\u001b[0m\n"
            ],
            "text/html": [
              "<pre style=\"white-space:pre;overflow-x:auto;line-height:normal;font-family:Menlo,'DejaVu Sans Mono',consolas,'Courier New',monospace\"><span style=\"font-weight: bold\">Model: \"functional\"</span>\n",
              "</pre>\n"
            ]
          },
          "metadata": {}
        },
        {
          "output_type": "display_data",
          "data": {
            "text/plain": [
              "┏━━━━━━━━━━━━━━━━━━━━━┳━━━━━━━━━━━━━━━━━━━┳━━━━━━━━━━━━┳━━━━━━━━━━━━━━━━━━━┓\n",
              "┃\u001b[1m \u001b[0m\u001b[1mLayer (type)       \u001b[0m\u001b[1m \u001b[0m┃\u001b[1m \u001b[0m\u001b[1mOutput Shape     \u001b[0m\u001b[1m \u001b[0m┃\u001b[1m \u001b[0m\u001b[1m   Param #\u001b[0m\u001b[1m \u001b[0m┃\u001b[1m \u001b[0m\u001b[1mConnected to     \u001b[0m\u001b[1m \u001b[0m┃\n",
              "┡━━━━━━━━━━━━━━━━━━━━━╇━━━━━━━━━━━━━━━━━━━╇━━━━━━━━━━━━╇━━━━━━━━━━━━━━━━━━━┩\n",
              "│ input_layer         │ (\u001b[38;5;45mNone\u001b[0m, \u001b[38;5;45mNone\u001b[0m, \u001b[38;5;34m27\u001b[0m)  │          \u001b[38;5;34m0\u001b[0m │ -                 │\n",
              "│ (\u001b[38;5;33mInputLayer\u001b[0m)        │                   │            │                   │\n",
              "├─────────────────────┼───────────────────┼────────────┼───────────────────┤\n",
              "│ input_layer_1       │ (\u001b[38;5;45mNone\u001b[0m, \u001b[38;5;45mNone\u001b[0m, \u001b[38;5;34m66\u001b[0m)  │          \u001b[38;5;34m0\u001b[0m │ -                 │\n",
              "│ (\u001b[38;5;33mInputLayer\u001b[0m)        │                   │            │                   │\n",
              "├─────────────────────┼───────────────────┼────────────┼───────────────────┤\n",
              "│ simple_rnn          │ [(\u001b[38;5;45mNone\u001b[0m, \u001b[38;5;34m128\u001b[0m),     │     \u001b[38;5;34m19,968\u001b[0m │ input_layer[\u001b[38;5;34m0\u001b[0m][\u001b[38;5;34m0\u001b[0m] │\n",
              "│ (\u001b[38;5;33mSimpleRNN\u001b[0m)         │ (\u001b[38;5;45mNone\u001b[0m, \u001b[38;5;34m128\u001b[0m)]      │            │                   │\n",
              "├─────────────────────┼───────────────────┼────────────┼───────────────────┤\n",
              "│ simple_rnn_1        │ [(\u001b[38;5;45mNone\u001b[0m, \u001b[38;5;45mNone\u001b[0m,     │     \u001b[38;5;34m24,960\u001b[0m │ input_layer_1[\u001b[38;5;34m0\u001b[0m]… │\n",
              "│ (\u001b[38;5;33mSimpleRNN\u001b[0m)         │ \u001b[38;5;34m128\u001b[0m), (\u001b[38;5;45mNone\u001b[0m,      │            │ simple_rnn[\u001b[38;5;34m0\u001b[0m][\u001b[38;5;34m1\u001b[0m]  │\n",
              "│                     │ \u001b[38;5;34m128\u001b[0m)]             │            │                   │\n",
              "├─────────────────────┼───────────────────┼────────────┼───────────────────┤\n",
              "│ dense (\u001b[38;5;33mDense\u001b[0m)       │ (\u001b[38;5;45mNone\u001b[0m, \u001b[38;5;45mNone\u001b[0m, \u001b[38;5;34m66\u001b[0m)  │      \u001b[38;5;34m8,514\u001b[0m │ simple_rnn_1[\u001b[38;5;34m0\u001b[0m][\u001b[38;5;34m…\u001b[0m │\n",
              "└─────────────────────┴───────────────────┴────────────┴───────────────────┘\n"
            ],
            "text/html": [
              "<pre style=\"white-space:pre;overflow-x:auto;line-height:normal;font-family:Menlo,'DejaVu Sans Mono',consolas,'Courier New',monospace\">┏━━━━━━━━━━━━━━━━━━━━━┳━━━━━━━━━━━━━━━━━━━┳━━━━━━━━━━━━┳━━━━━━━━━━━━━━━━━━━┓\n",
              "┃<span style=\"font-weight: bold\"> Layer (type)        </span>┃<span style=\"font-weight: bold\"> Output Shape      </span>┃<span style=\"font-weight: bold\">    Param # </span>┃<span style=\"font-weight: bold\"> Connected to      </span>┃\n",
              "┡━━━━━━━━━━━━━━━━━━━━━╇━━━━━━━━━━━━━━━━━━━╇━━━━━━━━━━━━╇━━━━━━━━━━━━━━━━━━━┩\n",
              "│ input_layer         │ (<span style=\"color: #00d7ff; text-decoration-color: #00d7ff\">None</span>, <span style=\"color: #00d7ff; text-decoration-color: #00d7ff\">None</span>, <span style=\"color: #00af00; text-decoration-color: #00af00\">27</span>)  │          <span style=\"color: #00af00; text-decoration-color: #00af00\">0</span> │ -                 │\n",
              "│ (<span style=\"color: #0087ff; text-decoration-color: #0087ff\">InputLayer</span>)        │                   │            │                   │\n",
              "├─────────────────────┼───────────────────┼────────────┼───────────────────┤\n",
              "│ input_layer_1       │ (<span style=\"color: #00d7ff; text-decoration-color: #00d7ff\">None</span>, <span style=\"color: #00d7ff; text-decoration-color: #00d7ff\">None</span>, <span style=\"color: #00af00; text-decoration-color: #00af00\">66</span>)  │          <span style=\"color: #00af00; text-decoration-color: #00af00\">0</span> │ -                 │\n",
              "│ (<span style=\"color: #0087ff; text-decoration-color: #0087ff\">InputLayer</span>)        │                   │            │                   │\n",
              "├─────────────────────┼───────────────────┼────────────┼───────────────────┤\n",
              "│ simple_rnn          │ [(<span style=\"color: #00d7ff; text-decoration-color: #00d7ff\">None</span>, <span style=\"color: #00af00; text-decoration-color: #00af00\">128</span>),     │     <span style=\"color: #00af00; text-decoration-color: #00af00\">19,968</span> │ input_layer[<span style=\"color: #00af00; text-decoration-color: #00af00\">0</span>][<span style=\"color: #00af00; text-decoration-color: #00af00\">0</span>] │\n",
              "│ (<span style=\"color: #0087ff; text-decoration-color: #0087ff\">SimpleRNN</span>)         │ (<span style=\"color: #00d7ff; text-decoration-color: #00d7ff\">None</span>, <span style=\"color: #00af00; text-decoration-color: #00af00\">128</span>)]      │            │                   │\n",
              "├─────────────────────┼───────────────────┼────────────┼───────────────────┤\n",
              "│ simple_rnn_1        │ [(<span style=\"color: #00d7ff; text-decoration-color: #00d7ff\">None</span>, <span style=\"color: #00d7ff; text-decoration-color: #00d7ff\">None</span>,     │     <span style=\"color: #00af00; text-decoration-color: #00af00\">24,960</span> │ input_layer_1[<span style=\"color: #00af00; text-decoration-color: #00af00\">0</span>]… │\n",
              "│ (<span style=\"color: #0087ff; text-decoration-color: #0087ff\">SimpleRNN</span>)         │ <span style=\"color: #00af00; text-decoration-color: #00af00\">128</span>), (<span style=\"color: #00d7ff; text-decoration-color: #00d7ff\">None</span>,      │            │ simple_rnn[<span style=\"color: #00af00; text-decoration-color: #00af00\">0</span>][<span style=\"color: #00af00; text-decoration-color: #00af00\">1</span>]  │\n",
              "│                     │ <span style=\"color: #00af00; text-decoration-color: #00af00\">128</span>)]             │            │                   │\n",
              "├─────────────────────┼───────────────────┼────────────┼───────────────────┤\n",
              "│ dense (<span style=\"color: #0087ff; text-decoration-color: #0087ff\">Dense</span>)       │ (<span style=\"color: #00d7ff; text-decoration-color: #00d7ff\">None</span>, <span style=\"color: #00d7ff; text-decoration-color: #00d7ff\">None</span>, <span style=\"color: #00af00; text-decoration-color: #00af00\">66</span>)  │      <span style=\"color: #00af00; text-decoration-color: #00af00\">8,514</span> │ simple_rnn_1[<span style=\"color: #00af00; text-decoration-color: #00af00\">0</span>][<span style=\"color: #00af00; text-decoration-color: #00af00\">…</span> │\n",
              "└─────────────────────┴───────────────────┴────────────┴───────────────────┘\n",
              "</pre>\n"
            ]
          },
          "metadata": {}
        },
        {
          "output_type": "display_data",
          "data": {
            "text/plain": [
              "\u001b[1m Total params: \u001b[0m\u001b[38;5;34m53,442\u001b[0m (208.76 KB)\n"
            ],
            "text/html": [
              "<pre style=\"white-space:pre;overflow-x:auto;line-height:normal;font-family:Menlo,'DejaVu Sans Mono',consolas,'Courier New',monospace\"><span style=\"font-weight: bold\"> Total params: </span><span style=\"color: #00af00; text-decoration-color: #00af00\">53,442</span> (208.76 KB)\n",
              "</pre>\n"
            ]
          },
          "metadata": {}
        },
        {
          "output_type": "display_data",
          "data": {
            "text/plain": [
              "\u001b[1m Trainable params: \u001b[0m\u001b[38;5;34m53,442\u001b[0m (208.76 KB)\n"
            ],
            "text/html": [
              "<pre style=\"white-space:pre;overflow-x:auto;line-height:normal;font-family:Menlo,'DejaVu Sans Mono',consolas,'Courier New',monospace\"><span style=\"font-weight: bold\"> Trainable params: </span><span style=\"color: #00af00; text-decoration-color: #00af00\">53,442</span> (208.76 KB)\n",
              "</pre>\n"
            ]
          },
          "metadata": {}
        },
        {
          "output_type": "display_data",
          "data": {
            "text/plain": [
              "\u001b[1m Non-trainable params: \u001b[0m\u001b[38;5;34m0\u001b[0m (0.00 B)\n"
            ],
            "text/html": [
              "<pre style=\"white-space:pre;overflow-x:auto;line-height:normal;font-family:Menlo,'DejaVu Sans Mono',consolas,'Courier New',monospace\"><span style=\"font-weight: bold\"> Non-trainable params: </span><span style=\"color: #00af00; text-decoration-color: #00af00\">0</span> (0.00 B)\n",
              "</pre>\n"
            ]
          },
          "metadata": {}
        }
      ]
    },
    {
      "cell_type": "code",
      "source": [
        "model_B.compile(\n",
        "    optimizer=\"rmsprop\", loss=\"categorical_crossentropy\", metrics=[\"accuracy\"]\n",
        ")\n",
        "model_B.fit(\n",
        "    [encoder_input_data,decoder_input_data],\n",
        "    decoder_target_data,\n",
        "    batch_size=64,\n",
        "    epochs = 5,\n",
        "    validation_split=0.2,\n",
        ")"
      ],
      "metadata": {
        "colab": {
          "base_uri": "https://localhost:8080/"
        },
        "id": "UHl2pWnke7R9",
        "outputId": "5efdc9e9-6127-452e-da0b-d49dca018081"
      },
      "execution_count": null,
      "outputs": [
        {
          "output_type": "stream",
          "name": "stdout",
          "text": [
            "Epoch 1/5\n",
            "\u001b[1m553/553\u001b[0m \u001b[32m━━━━━━━━━━━━━━━━━━━━\u001b[0m\u001b[37m\u001b[0m \u001b[1m12s\u001b[0m 15ms/step - accuracy: 0.6670 - loss: 1.6493 - val_accuracy: 0.7133 - val_loss: 1.1734\n",
            "Epoch 2/5\n",
            "\u001b[1m553/553\u001b[0m \u001b[32m━━━━━━━━━━━━━━━━━━━━\u001b[0m\u001b[37m\u001b[0m \u001b[1m3s\u001b[0m 6ms/step - accuracy: 0.7456 - loss: 0.9704 - val_accuracy: 0.7346 - val_loss: 1.0876\n",
            "Epoch 3/5\n",
            "\u001b[1m553/553\u001b[0m \u001b[32m━━━━━━━━━━━━━━━━━━━━\u001b[0m\u001b[37m\u001b[0m \u001b[1m3s\u001b[0m 5ms/step - accuracy: 0.7547 - loss: 0.9129 - val_accuracy: 0.7396 - val_loss: 1.0599\n",
            "Epoch 4/5\n",
            "\u001b[1m553/553\u001b[0m \u001b[32m━━━━━━━━━━━━━━━━━━━━\u001b[0m\u001b[37m\u001b[0m \u001b[1m3s\u001b[0m 5ms/step - accuracy: 0.7645 - loss: 0.8753 - val_accuracy: 0.7415 - val_loss: 1.0410\n",
            "Epoch 5/5\n",
            "\u001b[1m553/553\u001b[0m \u001b[32m━━━━━━━━━━━━━━━━━━━━\u001b[0m\u001b[37m\u001b[0m \u001b[1m3s\u001b[0m 6ms/step - accuracy: 0.7732 - loss: 0.8281 - val_accuracy: 0.7429 - val_loss: 1.0209\n"
          ]
        },
        {
          "output_type": "execute_result",
          "data": {
            "text/plain": [
              "<keras.src.callbacks.history.History at 0x7a0fb5fc3590>"
            ]
          },
          "metadata": {},
          "execution_count": 26
        }
      ]
    },
    {
      "cell_type": "markdown",
      "source": [
        "#model C"
      ],
      "metadata": {
        "id": "Iq-a7suuh4G3"
      }
    },
    {
      "cell_type": "code",
      "source": [
        "latent_dim = 128\n",
        "\n",
        "# --- Encoder ---\n",
        "encoder_inputs = keras.Input(shape=(None,num_encoder_tokens), name=\"encoder_input\")\n",
        "\n",
        "\n",
        "x = keras.layers.LSTM(latent_dim, return_sequences=True, name=\"encoder_lstm_1\")(encoder_inputs)\n",
        "\n",
        "encoder_outputs, state_h, state_c = keras.layers.LSTM(latent_dim, return_state=True, name=\"encoder_lstm_2\")(x)\n",
        "encoder_states = [state_h, state_c]\n",
        "\n",
        "# --- Decoder ---\n",
        "decoder_inputs = keras.Input(shape=(None,num_decoder_tokens), name=\"decoder_input\")\n",
        "\n",
        "# First decoder LSTM (uses encoder states as initial state)\n",
        "x = keras.layers.LSTM(latent_dim, return_sequences=True, name=\"decoder_lstm_1\")(decoder_inputs, initial_state=encoder_states)\n",
        "\n",
        "\n",
        "decoder_outputs, _, _ = keras.layers.LSTM(latent_dim, return_sequences=True, return_state=True, name=\"decoder_lstm_2\")(x)\n",
        "\n",
        "# Output layer\n",
        "decoder_dense = keras.layers.Dense(num_decoder_tokens, activation=\"softmax\", name=\"decoder_dense\")\n",
        "decoder_outputs = decoder_dense(decoder_outputs)\n",
        "\n",
        "\n",
        "model_C= keras.Model([encoder_inputs, decoder_inputs], decoder_outputs)\n",
        "\n",
        "\n",
        "model_C.compile(optimizer=\"rmsprop\", loss=\"categorical_crossentropy\", metrics=[\"accuracy\"])"
      ],
      "metadata": {
        "id": "bNKk28B1fZYY"
      },
      "execution_count": 21,
      "outputs": []
    },
    {
      "cell_type": "code",
      "source": [
        "model_C.summary()"
      ],
      "metadata": {
        "colab": {
          "base_uri": "https://localhost:8080/",
          "height": 561
        },
        "id": "uV_T06HPKS9m",
        "outputId": "d89c7369-8e75-4890-a071-98db2cc1221e"
      },
      "execution_count": 22,
      "outputs": [
        {
          "output_type": "display_data",
          "data": {
            "text/plain": [
              "\u001b[1mModel: \"functional_1\"\u001b[0m\n"
            ],
            "text/html": [
              "<pre style=\"white-space:pre;overflow-x:auto;line-height:normal;font-family:Menlo,'DejaVu Sans Mono',consolas,'Courier New',monospace\"><span style=\"font-weight: bold\">Model: \"functional_1\"</span>\n",
              "</pre>\n"
            ]
          },
          "metadata": {}
        },
        {
          "output_type": "display_data",
          "data": {
            "text/plain": [
              "┏━━━━━━━━━━━━━━━━━━━━━┳━━━━━━━━━━━━━━━━━━━┳━━━━━━━━━━━━┳━━━━━━━━━━━━━━━━━━━┓\n",
              "┃\u001b[1m \u001b[0m\u001b[1mLayer (type)       \u001b[0m\u001b[1m \u001b[0m┃\u001b[1m \u001b[0m\u001b[1mOutput Shape     \u001b[0m\u001b[1m \u001b[0m┃\u001b[1m \u001b[0m\u001b[1m   Param #\u001b[0m\u001b[1m \u001b[0m┃\u001b[1m \u001b[0m\u001b[1mConnected to     \u001b[0m\u001b[1m \u001b[0m┃\n",
              "┡━━━━━━━━━━━━━━━━━━━━━╇━━━━━━━━━━━━━━━━━━━╇━━━━━━━━━━━━╇━━━━━━━━━━━━━━━━━━━┩\n",
              "│ encoder_input       │ (\u001b[38;5;45mNone\u001b[0m, \u001b[38;5;45mNone\u001b[0m, \u001b[38;5;34m27\u001b[0m)  │          \u001b[38;5;34m0\u001b[0m │ -                 │\n",
              "│ (\u001b[38;5;33mInputLayer\u001b[0m)        │                   │            │                   │\n",
              "├─────────────────────┼───────────────────┼────────────┼───────────────────┤\n",
              "│ encoder_lstm_1      │ (\u001b[38;5;45mNone\u001b[0m, \u001b[38;5;45mNone\u001b[0m, \u001b[38;5;34m128\u001b[0m) │     \u001b[38;5;34m79,872\u001b[0m │ encoder_input[\u001b[38;5;34m0\u001b[0m]… │\n",
              "│ (\u001b[38;5;33mLSTM\u001b[0m)              │                   │            │                   │\n",
              "├─────────────────────┼───────────────────┼────────────┼───────────────────┤\n",
              "│ decoder_input       │ (\u001b[38;5;45mNone\u001b[0m, \u001b[38;5;45mNone\u001b[0m, \u001b[38;5;34m66\u001b[0m)  │          \u001b[38;5;34m0\u001b[0m │ -                 │\n",
              "│ (\u001b[38;5;33mInputLayer\u001b[0m)        │                   │            │                   │\n",
              "├─────────────────────┼───────────────────┼────────────┼───────────────────┤\n",
              "│ encoder_lstm_2      │ [(\u001b[38;5;45mNone\u001b[0m, \u001b[38;5;34m128\u001b[0m),     │    \u001b[38;5;34m131,584\u001b[0m │ encoder_lstm_1[\u001b[38;5;34m0\u001b[0m… │\n",
              "│ (\u001b[38;5;33mLSTM\u001b[0m)              │ (\u001b[38;5;45mNone\u001b[0m, \u001b[38;5;34m128\u001b[0m),      │            │                   │\n",
              "│                     │ (\u001b[38;5;45mNone\u001b[0m, \u001b[38;5;34m128\u001b[0m)]      │            │                   │\n",
              "├─────────────────────┼───────────────────┼────────────┼───────────────────┤\n",
              "│ decoder_lstm_1      │ (\u001b[38;5;45mNone\u001b[0m, \u001b[38;5;45mNone\u001b[0m, \u001b[38;5;34m128\u001b[0m) │     \u001b[38;5;34m99,840\u001b[0m │ decoder_input[\u001b[38;5;34m0\u001b[0m]… │\n",
              "│ (\u001b[38;5;33mLSTM\u001b[0m)              │                   │            │ encoder_lstm_2[\u001b[38;5;34m0\u001b[0m… │\n",
              "│                     │                   │            │ encoder_lstm_2[\u001b[38;5;34m0\u001b[0m… │\n",
              "├─────────────────────┼───────────────────┼────────────┼───────────────────┤\n",
              "│ decoder_lstm_2      │ [(\u001b[38;5;45mNone\u001b[0m, \u001b[38;5;45mNone\u001b[0m,     │    \u001b[38;5;34m131,584\u001b[0m │ decoder_lstm_1[\u001b[38;5;34m0\u001b[0m… │\n",
              "│ (\u001b[38;5;33mLSTM\u001b[0m)              │ \u001b[38;5;34m128\u001b[0m), (\u001b[38;5;45mNone\u001b[0m,      │            │                   │\n",
              "│                     │ \u001b[38;5;34m128\u001b[0m), (\u001b[38;5;45mNone\u001b[0m,      │            │                   │\n",
              "│                     │ \u001b[38;5;34m128\u001b[0m)]             │            │                   │\n",
              "├─────────────────────┼───────────────────┼────────────┼───────────────────┤\n",
              "│ decoder_dense       │ (\u001b[38;5;45mNone\u001b[0m, \u001b[38;5;45mNone\u001b[0m, \u001b[38;5;34m66\u001b[0m)  │      \u001b[38;5;34m8,514\u001b[0m │ decoder_lstm_2[\u001b[38;5;34m0\u001b[0m… │\n",
              "│ (\u001b[38;5;33mDense\u001b[0m)             │                   │            │                   │\n",
              "└─────────────────────┴───────────────────┴────────────┴───────────────────┘\n"
            ],
            "text/html": [
              "<pre style=\"white-space:pre;overflow-x:auto;line-height:normal;font-family:Menlo,'DejaVu Sans Mono',consolas,'Courier New',monospace\">┏━━━━━━━━━━━━━━━━━━━━━┳━━━━━━━━━━━━━━━━━━━┳━━━━━━━━━━━━┳━━━━━━━━━━━━━━━━━━━┓\n",
              "┃<span style=\"font-weight: bold\"> Layer (type)        </span>┃<span style=\"font-weight: bold\"> Output Shape      </span>┃<span style=\"font-weight: bold\">    Param # </span>┃<span style=\"font-weight: bold\"> Connected to      </span>┃\n",
              "┡━━━━━━━━━━━━━━━━━━━━━╇━━━━━━━━━━━━━━━━━━━╇━━━━━━━━━━━━╇━━━━━━━━━━━━━━━━━━━┩\n",
              "│ encoder_input       │ (<span style=\"color: #00d7ff; text-decoration-color: #00d7ff\">None</span>, <span style=\"color: #00d7ff; text-decoration-color: #00d7ff\">None</span>, <span style=\"color: #00af00; text-decoration-color: #00af00\">27</span>)  │          <span style=\"color: #00af00; text-decoration-color: #00af00\">0</span> │ -                 │\n",
              "│ (<span style=\"color: #0087ff; text-decoration-color: #0087ff\">InputLayer</span>)        │                   │            │                   │\n",
              "├─────────────────────┼───────────────────┼────────────┼───────────────────┤\n",
              "│ encoder_lstm_1      │ (<span style=\"color: #00d7ff; text-decoration-color: #00d7ff\">None</span>, <span style=\"color: #00d7ff; text-decoration-color: #00d7ff\">None</span>, <span style=\"color: #00af00; text-decoration-color: #00af00\">128</span>) │     <span style=\"color: #00af00; text-decoration-color: #00af00\">79,872</span> │ encoder_input[<span style=\"color: #00af00; text-decoration-color: #00af00\">0</span>]… │\n",
              "│ (<span style=\"color: #0087ff; text-decoration-color: #0087ff\">LSTM</span>)              │                   │            │                   │\n",
              "├─────────────────────┼───────────────────┼────────────┼───────────────────┤\n",
              "│ decoder_input       │ (<span style=\"color: #00d7ff; text-decoration-color: #00d7ff\">None</span>, <span style=\"color: #00d7ff; text-decoration-color: #00d7ff\">None</span>, <span style=\"color: #00af00; text-decoration-color: #00af00\">66</span>)  │          <span style=\"color: #00af00; text-decoration-color: #00af00\">0</span> │ -                 │\n",
              "│ (<span style=\"color: #0087ff; text-decoration-color: #0087ff\">InputLayer</span>)        │                   │            │                   │\n",
              "├─────────────────────┼───────────────────┼────────────┼───────────────────┤\n",
              "│ encoder_lstm_2      │ [(<span style=\"color: #00d7ff; text-decoration-color: #00d7ff\">None</span>, <span style=\"color: #00af00; text-decoration-color: #00af00\">128</span>),     │    <span style=\"color: #00af00; text-decoration-color: #00af00\">131,584</span> │ encoder_lstm_1[<span style=\"color: #00af00; text-decoration-color: #00af00\">0</span>… │\n",
              "│ (<span style=\"color: #0087ff; text-decoration-color: #0087ff\">LSTM</span>)              │ (<span style=\"color: #00d7ff; text-decoration-color: #00d7ff\">None</span>, <span style=\"color: #00af00; text-decoration-color: #00af00\">128</span>),      │            │                   │\n",
              "│                     │ (<span style=\"color: #00d7ff; text-decoration-color: #00d7ff\">None</span>, <span style=\"color: #00af00; text-decoration-color: #00af00\">128</span>)]      │            │                   │\n",
              "├─────────────────────┼───────────────────┼────────────┼───────────────────┤\n",
              "│ decoder_lstm_1      │ (<span style=\"color: #00d7ff; text-decoration-color: #00d7ff\">None</span>, <span style=\"color: #00d7ff; text-decoration-color: #00d7ff\">None</span>, <span style=\"color: #00af00; text-decoration-color: #00af00\">128</span>) │     <span style=\"color: #00af00; text-decoration-color: #00af00\">99,840</span> │ decoder_input[<span style=\"color: #00af00; text-decoration-color: #00af00\">0</span>]… │\n",
              "│ (<span style=\"color: #0087ff; text-decoration-color: #0087ff\">LSTM</span>)              │                   │            │ encoder_lstm_2[<span style=\"color: #00af00; text-decoration-color: #00af00\">0</span>… │\n",
              "│                     │                   │            │ encoder_lstm_2[<span style=\"color: #00af00; text-decoration-color: #00af00\">0</span>… │\n",
              "├─────────────────────┼───────────────────┼────────────┼───────────────────┤\n",
              "│ decoder_lstm_2      │ [(<span style=\"color: #00d7ff; text-decoration-color: #00d7ff\">None</span>, <span style=\"color: #00d7ff; text-decoration-color: #00d7ff\">None</span>,     │    <span style=\"color: #00af00; text-decoration-color: #00af00\">131,584</span> │ decoder_lstm_1[<span style=\"color: #00af00; text-decoration-color: #00af00\">0</span>… │\n",
              "│ (<span style=\"color: #0087ff; text-decoration-color: #0087ff\">LSTM</span>)              │ <span style=\"color: #00af00; text-decoration-color: #00af00\">128</span>), (<span style=\"color: #00d7ff; text-decoration-color: #00d7ff\">None</span>,      │            │                   │\n",
              "│                     │ <span style=\"color: #00af00; text-decoration-color: #00af00\">128</span>), (<span style=\"color: #00d7ff; text-decoration-color: #00d7ff\">None</span>,      │            │                   │\n",
              "│                     │ <span style=\"color: #00af00; text-decoration-color: #00af00\">128</span>)]             │            │                   │\n",
              "├─────────────────────┼───────────────────┼────────────┼───────────────────┤\n",
              "│ decoder_dense       │ (<span style=\"color: #00d7ff; text-decoration-color: #00d7ff\">None</span>, <span style=\"color: #00d7ff; text-decoration-color: #00d7ff\">None</span>, <span style=\"color: #00af00; text-decoration-color: #00af00\">66</span>)  │      <span style=\"color: #00af00; text-decoration-color: #00af00\">8,514</span> │ decoder_lstm_2[<span style=\"color: #00af00; text-decoration-color: #00af00\">0</span>… │\n",
              "│ (<span style=\"color: #0087ff; text-decoration-color: #0087ff\">Dense</span>)             │                   │            │                   │\n",
              "└─────────────────────┴───────────────────┴────────────┴───────────────────┘\n",
              "</pre>\n"
            ]
          },
          "metadata": {}
        },
        {
          "output_type": "display_data",
          "data": {
            "text/plain": [
              "\u001b[1m Total params: \u001b[0m\u001b[38;5;34m451,394\u001b[0m (1.72 MB)\n"
            ],
            "text/html": [
              "<pre style=\"white-space:pre;overflow-x:auto;line-height:normal;font-family:Menlo,'DejaVu Sans Mono',consolas,'Courier New',monospace\"><span style=\"font-weight: bold\"> Total params: </span><span style=\"color: #00af00; text-decoration-color: #00af00\">451,394</span> (1.72 MB)\n",
              "</pre>\n"
            ]
          },
          "metadata": {}
        },
        {
          "output_type": "display_data",
          "data": {
            "text/plain": [
              "\u001b[1m Trainable params: \u001b[0m\u001b[38;5;34m451,394\u001b[0m (1.72 MB)\n"
            ],
            "text/html": [
              "<pre style=\"white-space:pre;overflow-x:auto;line-height:normal;font-family:Menlo,'DejaVu Sans Mono',consolas,'Courier New',monospace\"><span style=\"font-weight: bold\"> Trainable params: </span><span style=\"color: #00af00; text-decoration-color: #00af00\">451,394</span> (1.72 MB)\n",
              "</pre>\n"
            ]
          },
          "metadata": {}
        },
        {
          "output_type": "display_data",
          "data": {
            "text/plain": [
              "\u001b[1m Non-trainable params: \u001b[0m\u001b[38;5;34m0\u001b[0m (0.00 B)\n"
            ],
            "text/html": [
              "<pre style=\"white-space:pre;overflow-x:auto;line-height:normal;font-family:Menlo,'DejaVu Sans Mono',consolas,'Courier New',monospace\"><span style=\"font-weight: bold\"> Non-trainable params: </span><span style=\"color: #00af00; text-decoration-color: #00af00\">0</span> (0.00 B)\n",
              "</pre>\n"
            ]
          },
          "metadata": {}
        }
      ]
    },
    {
      "cell_type": "code",
      "source": [
        "model_C.fit(\n",
        "    [encoder_input_data,decoder_input_data],\n",
        "    decoder_target_data,\n",
        "    batch_size=64,\n",
        "    epochs=10,\n",
        "    validation_split=0.2\n",
        ")"
      ],
      "metadata": {
        "colab": {
          "base_uri": "https://localhost:8080/"
        },
        "id": "GyKXCiXPfo_Y",
        "outputId": "6a952f84-321e-4d16-c41e-fee0980aabfa"
      },
      "execution_count": null,
      "outputs": [
        {
          "output_type": "stream",
          "name": "stdout",
          "text": [
            "Epoch 1/10\n",
            "\u001b[1m553/553\u001b[0m \u001b[32m━━━━━━━━━━━━━━━━━━━━\u001b[0m\u001b[37m\u001b[0m \u001b[1m10s\u001b[0m 14ms/step - accuracy: 0.6794 - loss: 1.3654 - val_accuracy: 0.7135 - val_loss: 1.1365\n",
            "Epoch 2/10\n",
            "\u001b[1m553/553\u001b[0m \u001b[32m━━━━━━━━━━━━━━━━━━━━\u001b[0m\u001b[37m\u001b[0m \u001b[1m11s\u001b[0m 15ms/step - accuracy: 0.7460 - loss: 0.9796 - val_accuracy: 0.7461 - val_loss: 0.9962\n",
            "Epoch 3/10\n",
            "\u001b[1m553/553\u001b[0m \u001b[32m━━━━━━━━━━━━━━━━━━━━\u001b[0m\u001b[37m\u001b[0m \u001b[1m7s\u001b[0m 10ms/step - accuracy: 0.7755 - loss: 0.8075 - val_accuracy: 0.7589 - val_loss: 0.9425\n",
            "Epoch 4/10\n",
            "\u001b[1m553/553\u001b[0m \u001b[32m━━━━━━━━━━━━━━━━━━━━\u001b[0m\u001b[37m\u001b[0m \u001b[1m6s\u001b[0m 11ms/step - accuracy: 0.8067 - loss: 0.6670 - val_accuracy: 0.7710 - val_loss: 0.8827\n",
            "Epoch 5/10\n",
            "\u001b[1m553/553\u001b[0m \u001b[32m━━━━━━━━━━━━━━━━━━━━\u001b[0m\u001b[37m\u001b[0m \u001b[1m10s\u001b[0m 12ms/step - accuracy: 0.8371 - loss: 0.5393 - val_accuracy: 0.7966 - val_loss: 0.7716\n",
            "Epoch 6/10\n",
            "\u001b[1m553/553\u001b[0m \u001b[32m━━━━━━━━━━━━━━━━━━━━\u001b[0m\u001b[37m\u001b[0m \u001b[1m6s\u001b[0m 11ms/step - accuracy: 0.8603 - loss: 0.4507 - val_accuracy: 0.8063 - val_loss: 0.7107\n",
            "Epoch 7/10\n",
            "\u001b[1m553/553\u001b[0m \u001b[32m━━━━━━━━━━━━━━━━━━━━\u001b[0m\u001b[37m\u001b[0m \u001b[1m9s\u001b[0m 15ms/step - accuracy: 0.8791 - loss: 0.3870 - val_accuracy: 0.8216 - val_loss: 0.6454\n",
            "Epoch 8/10\n",
            "\u001b[1m553/553\u001b[0m \u001b[32m━━━━━━━━━━━━━━━━━━━━\u001b[0m\u001b[37m\u001b[0m \u001b[1m10s\u001b[0m 14ms/step - accuracy: 0.8929 - loss: 0.3404 - val_accuracy: 0.8261 - val_loss: 0.6242\n",
            "Epoch 9/10\n",
            "\u001b[1m553/553\u001b[0m \u001b[32m━━━━━━━━━━━━━━━━━━━━\u001b[0m\u001b[37m\u001b[0m \u001b[1m7s\u001b[0m 12ms/step - accuracy: 0.9050 - loss: 0.3005 - val_accuracy: 0.8394 - val_loss: 0.5562\n",
            "Epoch 10/10\n",
            "\u001b[1m553/553\u001b[0m \u001b[32m━━━━━━━━━━━━━━━━━━━━\u001b[0m\u001b[37m\u001b[0m \u001b[1m6s\u001b[0m 11ms/step - accuracy: 0.9146 - loss: 0.2689 - val_accuracy: 0.8491 - val_loss: 0.5121\n"
          ]
        },
        {
          "output_type": "execute_result",
          "data": {
            "text/plain": [
              "<keras.src.callbacks.history.History at 0x7f8c056ec590>"
            ]
          },
          "metadata": {},
          "execution_count": 34
        }
      ]
    },
    {
      "cell_type": "code",
      "source": [],
      "metadata": {
        "id": "G8MJ_Ax2qUyi"
      },
      "execution_count": null,
      "outputs": []
    }
  ]
}